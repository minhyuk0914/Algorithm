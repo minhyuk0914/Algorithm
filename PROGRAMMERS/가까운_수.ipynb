{
  "nbformat": 4,
  "nbformat_minor": 0,
  "metadata": {
    "colab": {
      "provenance": [],
      "authorship_tag": "ABX9TyOiUg34FDy43NCA+DBh77pw",
      "include_colab_link": true
    },
    "kernelspec": {
      "name": "python3",
      "display_name": "Python 3"
    },
    "language_info": {
      "name": "python"
    }
  },
  "cells": [
    {
      "cell_type": "markdown",
      "metadata": {
        "id": "view-in-github",
        "colab_type": "text"
      },
      "source": [
        "<a href=\"https://colab.research.google.com/github/minhyuk0914/Algorithm/blob/main/PROGRAMMERS/%EA%B0%80%EA%B9%8C%EC%9A%B4_%EC%88%98.ipynb\" target=\"_parent\"><img src=\"https://colab.research.google.com/assets/colab-badge.svg\" alt=\"Open In Colab\"/></a>"
      ]
    },
    {
      "cell_type": "code",
      "execution_count": 1,
      "metadata": {
        "id": "Bce6mbSY9xOr"
      },
      "outputs": [],
      "source": [
        "# 나의 풀이\n",
        "\"\"\"\n",
        "1. array 정렬\n",
        "2. 정렬된 array 원소 값 - n 을 통해서, n과 가까운 수는 절댓값이 가장 작은 값.\n",
        "3. abs_list 원소 값이 가장 작은 index의 값으로 array 원소 값 호출\n",
        "\"\"\"\n",
        "def solution(array, n):\n",
        "    answer = 0\n",
        "    array.sort() # 정렬\n",
        "    abs_list = []\n",
        "    for i in range(len(array)):\n",
        "        abs_list.append(abs(array[i] - n))\n",
        "\n",
        "    return array[abs_list.index(min(abs_list))]"
      ]
    },
    {
      "cell_type": "code",
      "source": [
        "array = [3, 10, 28]\n",
        "n = 20\n",
        "solution(array, n)"
      ],
      "metadata": {
        "colab": {
          "base_uri": "https://localhost:8080/"
        },
        "id": "etI4lcOM-bR0",
        "outputId": "609849c8-aa73-452d-c2cd-df71d51e4baf"
      },
      "execution_count": 2,
      "outputs": [
        {
          "output_type": "execute_result",
          "data": {
            "text/plain": [
              "28"
            ]
          },
          "metadata": {},
          "execution_count": 2
        }
      ]
    },
    {
      "cell_type": "code",
      "source": [
        "array = [10, 11, 12]\n",
        "n = 13\n",
        "solution(array, n)"
      ],
      "metadata": {
        "colab": {
          "base_uri": "https://localhost:8080/"
        },
        "id": "Us2vT_20Ar3K",
        "outputId": "0298808f-e27e-4c43-bb2c-3002b982afb8"
      },
      "execution_count": 3,
      "outputs": [
        {
          "output_type": "execute_result",
          "data": {
            "text/plain": [
              "12"
            ]
          },
          "metadata": {},
          "execution_count": 3
        }
      ]
    },
    {
      "cell_type": "code",
      "source": [
        "# 다른사람 풀이 - lambda 활용 , array(key) 코드 간단화\n",
        "def solution(array, n):\n",
        "    array.sort(key = lambda x : (abs(x-n), x-n))\n",
        "    answer = array[0]\n",
        "    return answer"
      ],
      "metadata": {
        "id": "JzNaDAMRAwWR"
      },
      "execution_count": 5,
      "outputs": []
    }
  ]
}