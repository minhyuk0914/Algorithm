{
  "nbformat": 4,
  "nbformat_minor": 0,
  "metadata": {
    "colab": {
      "provenance": [],
      "authorship_tag": "ABX9TyPgLmuis3DEC6nOOV8lTn9c",
      "include_colab_link": true
    },
    "kernelspec": {
      "name": "python3",
      "display_name": "Python 3"
    },
    "language_info": {
      "name": "python"
    }
  },
  "cells": [
    {
      "cell_type": "markdown",
      "metadata": {
        "id": "view-in-github",
        "colab_type": "text"
      },
      "source": [
        "<a href=\"https://colab.research.google.com/github/minhyuk0914/Algorithm/blob/main/PROGRAMMERS/%EB%AA%A8%EC%9D%8C%EC%A0%9C%EA%B1%B0.ipynb\" target=\"_parent\"><img src=\"https://colab.research.google.com/assets/colab-badge.svg\" alt=\"Open In Colab\"/></a>"
      ]
    },
    {
      "cell_type": "code",
      "execution_count": 1,
      "metadata": {
        "id": "RMJKs5QHymZ0"
      },
      "outputs": [],
      "source": [
        "# 풀이\n",
        "import re\n",
        "def solution(my_string):\n",
        "    return re.sub(\"a|e|i|o|u\", \"\", my_string)"
      ]
    },
    {
      "cell_type": "code",
      "source": [
        "my_string_1 = \"bus\"\n",
        "solution(my_string_1)"
      ],
      "metadata": {
        "colab": {
          "base_uri": "https://localhost:8080/",
          "height": 35
        },
        "id": "-esozPomyocC",
        "outputId": "8efe5223-bb13-42d7-fe7d-0427a1bff96b"
      },
      "execution_count": 2,
      "outputs": [
        {
          "output_type": "execute_result",
          "data": {
            "text/plain": [
              "'bs'"
            ],
            "application/vnd.google.colaboratory.intrinsic+json": {
              "type": "string"
            }
          },
          "metadata": {},
          "execution_count": 2
        }
      ]
    },
    {
      "cell_type": "code",
      "source": [
        "my_string_1 = \"nice to meet you\"\n",
        "solution(my_string_1)"
      ],
      "metadata": {
        "colab": {
          "base_uri": "https://localhost:8080/",
          "height": 35
        },
        "id": "jhTHJV_zyr8O",
        "outputId": "f04a4374-0b79-4989-98c2-9aa045c2973a"
      },
      "execution_count": 3,
      "outputs": [
        {
          "output_type": "execute_result",
          "data": {
            "text/plain": [
              "'nc t mt y'"
            ],
            "application/vnd.google.colaboratory.intrinsic+json": {
              "type": "string"
            }
          },
          "metadata": {},
          "execution_count": 3
        }
      ]
    },
    {
      "cell_type": "code",
      "source": [
        "# 다른 사람 풀이\n",
        "def solution(my_string):\n",
        "    vowels = ['a','e','i','o','u']\n",
        "    for vowel in vowels:\n",
        "        my_string = my_string.replace(vowel, '')\n",
        "    return my_string"
      ],
      "metadata": {
        "id": "QQ_tf8vyy0XP"
      },
      "execution_count": 4,
      "outputs": []
    }
  ]
}