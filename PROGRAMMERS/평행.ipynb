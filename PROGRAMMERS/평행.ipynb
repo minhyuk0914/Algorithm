{
  "nbformat": 4,
  "nbformat_minor": 0,
  "metadata": {
    "colab": {
      "provenance": [],
      "authorship_tag": "ABX9TyMSIadFiXuvsAKig9cyuoCF",
      "include_colab_link": true
    },
    "kernelspec": {
      "name": "python3",
      "display_name": "Python 3"
    },
    "language_info": {
      "name": "python"
    }
  },
  "cells": [
    {
      "cell_type": "markdown",
      "metadata": {
        "id": "view-in-github",
        "colab_type": "text"
      },
      "source": [
        "<a href=\"https://colab.research.google.com/github/minhyuk0914/Algorithm/blob/main/PROGRAMMERS/%ED%8F%89%ED%96%89.ipynb\" target=\"_parent\"><img src=\"https://colab.research.google.com/assets/colab-badge.svg\" alt=\"Open In Colab\"/></a>"
      ]
    },
    {
      "cell_type": "code",
      "execution_count": 1,
      "metadata": {
        "id": "tmRjQ2PPohFX"
      },
      "outputs": [],
      "source": [
        "# 나의 풀이\n",
        "\n",
        "def solution(dots):\n",
        "    answer = 0\n",
        "\n",
        "    [[x1, y1], [x2, y2], [x3, y3], [x4, y4]] = dots\n",
        "    \"\"\"\n",
        "    기울기 : |(y2-y1) / (x2-x1)|\n",
        "    평행 : 기울기가 같은 것\n",
        "    \"\"\"\n",
        "\n",
        "    # 선분 12, 선분 34\n",
        "    gradient_12 = abs((y2 - y1) / (x2 - x1))\n",
        "    gradient_34 = abs((y4 - y3) / (x4 - x3))\n",
        "\n",
        "    # 선분 13, 선분 24\n",
        "    gradient_13 = abs((y3 - y1) / (x3 - x1))\n",
        "    gradient_24 = abs((y4 - y2) / (x4 - x2))\n",
        "\n",
        "    # 선분23, 선분 14\n",
        "    gradient_23 = abs((y3 - y2) / (x3 - x2))\n",
        "    gradient_14 = abs((y4 - y1) / (x4 - x1))\n",
        "\n",
        "    # 셋 중 하나라도 같으면 평행\n",
        "    if gradient_12 == gradient_34 or gradient_23 == gradient_14 or gradient_13 == gradient_24:\n",
        "        return 1\n",
        "    return 0"
      ]
    },
    {
      "cell_type": "code",
      "source": [
        "dots = [[1, 4], [9, 2], [3, 8], [11, 6]]\n",
        "solution(dots)"
      ],
      "metadata": {
        "colab": {
          "base_uri": "https://localhost:8080/"
        },
        "id": "OOgP3og2ok_i",
        "outputId": "ffe9ec53-0c92-464a-da80-70a7ff8c76b4"
      },
      "execution_count": 2,
      "outputs": [
        {
          "output_type": "execute_result",
          "data": {
            "text/plain": [
              "1"
            ]
          },
          "metadata": {},
          "execution_count": 2
        }
      ]
    },
    {
      "cell_type": "code",
      "source": [
        "dots = [[3, 5], [4, 1], [2, 4], [5, 10]]\n",
        "solution(dots)"
      ],
      "metadata": {
        "colab": {
          "base_uri": "https://localhost:8080/"
        },
        "id": "fmj_jh_eoonl",
        "outputId": "f502987e-d316-4657-c0e9-ef28f224043c"
      },
      "execution_count": 3,
      "outputs": [
        {
          "output_type": "execute_result",
          "data": {
            "text/plain": [
              "0"
            ]
          },
          "metadata": {},
          "execution_count": 3
        }
      ]
    },
    {
      "cell_type": "code",
      "source": [
        "# 다른사람 풀이 - 간결\n",
        "def solution(dots):\n",
        "    [[x1, y1], [x2, y2], [x3, y3], [x4, y4]]=dots\n",
        "    answer1 = ((y1-y2)*(x3-x4) == (y3-y4)*(x1-x2))\n",
        "    answer2 = ((y1-y3)*(x2-x4) == (y2-y4)*(x1-x3))\n",
        "    answer3 = ((y1-y4)*(x2-x3) == (y2-y3)*(x1-x4))\n",
        "    return 1 if answer1 or answer2 or answer3 else 0"
      ],
      "metadata": {
        "id": "flC0SGaUotnI"
      },
      "execution_count": 4,
      "outputs": []
    }
  ]
}