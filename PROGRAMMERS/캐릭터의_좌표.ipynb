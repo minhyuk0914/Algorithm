{
  "nbformat": 4,
  "nbformat_minor": 0,
  "metadata": {
    "colab": {
      "provenance": [],
      "authorship_tag": "ABX9TyPbBB+2KQxPKpKgB8Fycbzt",
      "include_colab_link": true
    },
    "kernelspec": {
      "name": "python3",
      "display_name": "Python 3"
    },
    "language_info": {
      "name": "python"
    }
  },
  "cells": [
    {
      "cell_type": "markdown",
      "metadata": {
        "id": "view-in-github",
        "colab_type": "text"
      },
      "source": [
        "<a href=\"https://colab.research.google.com/github/minhyuk0914/Algorithm/blob/main/PROGRAMMERS/%EC%BA%90%EB%A6%AD%ED%84%B0%EC%9D%98_%EC%A2%8C%ED%91%9C.ipynb\" target=\"_parent\"><img src=\"https://colab.research.google.com/assets/colab-badge.svg\" alt=\"Open In Colab\"/></a>"
      ]
    },
    {
      "cell_type": "code",
      "execution_count": 1,
      "metadata": {
        "id": "8_0nWKKeKuKc"
      },
      "outputs": [],
      "source": [
        "# 나의 풀이\n",
        "def solution(keyinput, board):\n",
        "    x, y = 0, 0\n",
        "    row = board[0] // 2\n",
        "    col = board[1] // 2\n",
        "    for i in keyinput:\n",
        "        if i == 'up' and y < col:\n",
        "            y += 1\n",
        "        elif i == 'down' and  y > -col:\n",
        "            y -= 1\n",
        "        elif i == 'left' and x > -row:\n",
        "            x -= 1\n",
        "        elif i == 'right' and x < row:\n",
        "            x += 1\n",
        "    answer = [x, y]\n",
        "    return answer"
      ]
    },
    {
      "cell_type": "code",
      "source": [
        "keyinput = [\"left\", \"right\", \"up\", \"right\", \"right\"]\n",
        "board = [11, 11]\n",
        "solution(keyinput, board)"
      ],
      "metadata": {
        "colab": {
          "base_uri": "https://localhost:8080/"
        },
        "id": "n8VPrdwvK9Vb",
        "outputId": "7f477266-bd6d-4354-dac0-54b4d629d567"
      },
      "execution_count": 2,
      "outputs": [
        {
          "output_type": "execute_result",
          "data": {
            "text/plain": [
              "[2, 1]"
            ]
          },
          "metadata": {},
          "execution_count": 2
        }
      ]
    },
    {
      "cell_type": "code",
      "source": [
        "keyinput = [\"down\", \"down\", \"down\", \"down\", \"down\"]\n",
        "board = [7, 9]\n",
        "solution(keyinput, board)"
      ],
      "metadata": {
        "colab": {
          "base_uri": "https://localhost:8080/"
        },
        "id": "Nr0uqFW9LCe3",
        "outputId": "3545c73b-76a2-4adf-b2c5-6a46bffa28d9"
      },
      "execution_count": 3,
      "outputs": [
        {
          "output_type": "execute_result",
          "data": {
            "text/plain": [
              "[0, -4]"
            ]
          },
          "metadata": {},
          "execution_count": 3
        }
      ]
    },
    {
      "cell_type": "code",
      "source": [
        "# 처음 시도해보았던 방법\n",
        "# 다른 사람 풀이 - dictionary\n",
        "def solution(keyinput, board):\n",
        "    x_lim,y_lim = board[0]//2,board[1]//2\n",
        "    move = {'left':(-1,0),'right':(1,0),'up':(0,1),'down':(0,-1)}\n",
        "    x,y = 0,0\n",
        "    for k in keyinput:\n",
        "        dx,dy = move[k] # dx, dy\n",
        "        if abs(x+dx)>x_lim or abs(y+dy)>y_lim:  # 더한 값이 절댓값이 최대 길이 만큼 넘지 않도록 조건문 만들기\n",
        "            continue    # 더한 값이 절댓값을 초과하는 경우 continue\n",
        "        else:\n",
        "            x,y = x+dx,y+dy # 그렇지 않은 경우 값 더하기\n",
        "\n",
        "    return [x,y]"
      ],
      "metadata": {
        "id": "LX4sl0P9LSnl"
      },
      "execution_count": null,
      "outputs": []
    }
  ]
}