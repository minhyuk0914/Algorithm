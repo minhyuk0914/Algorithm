{
  "nbformat": 4,
  "nbformat_minor": 0,
  "metadata": {
    "colab": {
      "provenance": [],
      "authorship_tag": "ABX9TyPtuF+B5WdTtUy+8YMaeKbL",
      "include_colab_link": true
    },
    "kernelspec": {
      "name": "python3",
      "display_name": "Python 3"
    },
    "language_info": {
      "name": "python"
    }
  },
  "cells": [
    {
      "cell_type": "markdown",
      "metadata": {
        "id": "view-in-github",
        "colab_type": "text"
      },
      "source": [
        "<a href=\"https://colab.research.google.com/github/minhyuk0914/Algorithm/blob/main/PROGRAMMERS/%EC%98%81%EC%96%B4%EA%B0%80_%EC%8B%AB%EC%96%B4%EC%9A%94.ipynb\" target=\"_parent\"><img src=\"https://colab.research.google.com/assets/colab-badge.svg\" alt=\"Open In Colab\"/></a>"
      ]
    },
    {
      "cell_type": "code",
      "execution_count": 1,
      "metadata": {
        "id": "_Q4Tbrhg_Isc"
      },
      "outputs": [],
      "source": [
        "# 나의 풀이\n",
        "def solution(numbers):\n",
        "    dict = {'zero' : 0,\n",
        "            'one' : 1,\n",
        "            'two' : 2,\n",
        "            'three' : 3,\n",
        "            'four' : 4,\n",
        "            'five' : 5,\n",
        "            'six' : 6,\n",
        "            'seven' : 7,\n",
        "            'eight' : 8,\n",
        "            'nine' : 9}\n",
        "    for key, value in dict.items():\n",
        "        numbers = numbers.replace(key, str(value))\n",
        "\n",
        "    return int(numbers)"
      ]
    },
    {
      "cell_type": "code",
      "source": [
        "numbers = \"onetwothreefourfivesixseveneightnine\"\n",
        "solution(numbers)"
      ],
      "metadata": {
        "colab": {
          "base_uri": "https://localhost:8080/"
        },
        "id": "mG6lJoLU_N0q",
        "outputId": "6381893c-6d5e-48e3-fb09-c49fdbb7d241"
      },
      "execution_count": 2,
      "outputs": [
        {
          "output_type": "execute_result",
          "data": {
            "text/plain": [
              "123456789"
            ]
          },
          "metadata": {},
          "execution_count": 2
        }
      ]
    },
    {
      "cell_type": "code",
      "source": [
        "numbers = \"onefourzerosixseven\"\n",
        "solution(numbers)"
      ],
      "metadata": {
        "colab": {
          "base_uri": "https://localhost:8080/"
        },
        "id": "ho6PCADP_Tie",
        "outputId": "c368ee9b-5f57-4ac2-9757-781bb0def47b"
      },
      "execution_count": 3,
      "outputs": [
        {
          "output_type": "execute_result",
          "data": {
            "text/plain": [
              "14067"
            ]
          },
          "metadata": {},
          "execution_count": 3
        }
      ]
    },
    {
      "cell_type": "code",
      "source": [
        "# 다른 사람 풀이 - enumerate() 사용\n",
        "def solution(numbers):\n",
        "    for num, eng in enumerate([\"zero\", \"one\", \"two\", \"three\", \"four\", \"five\", \"six\", \"seven\", \"eight\", \"nine\"]):\n",
        "        numbers = numbers.replace(eng, str(num))\n",
        "    return int(numbers)"
      ],
      "metadata": {
        "id": "V6RFIWED_Wno"
      },
      "execution_count": 4,
      "outputs": []
    }
  ]
}