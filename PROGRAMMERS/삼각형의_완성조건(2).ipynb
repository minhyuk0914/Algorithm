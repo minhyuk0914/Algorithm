{
  "nbformat": 4,
  "nbformat_minor": 0,
  "metadata": {
    "colab": {
      "provenance": [],
      "authorship_tag": "ABX9TyM5iJduiBpSOG4XBdAqyKW9",
      "include_colab_link": true
    },
    "kernelspec": {
      "name": "python3",
      "display_name": "Python 3"
    },
    "language_info": {
      "name": "python"
    }
  },
  "cells": [
    {
      "cell_type": "markdown",
      "metadata": {
        "id": "view-in-github",
        "colab_type": "text"
      },
      "source": [
        "<a href=\"https://colab.research.google.com/github/minhyuk0914/Algorithm/blob/main/PROGRAMMERS/%EC%82%BC%EA%B0%81%ED%98%95%EC%9D%98_%EC%99%84%EC%84%B1%EC%A1%B0%EA%B1%B4(2).ipynb\" target=\"_parent\"><img src=\"https://colab.research.google.com/assets/colab-badge.svg\" alt=\"Open In Colab\"/></a>"
      ]
    },
    {
      "cell_type": "code",
      "execution_count": 1,
      "metadata": {
        "id": "mq9Ld9tegq5I"
      },
      "outputs": [],
      "source": [
        "# 나의 풀이\n",
        "# 가장 긴 변의 길이가 나머지 두 변의 길이의 합보다 작아야 한다\n",
        "def solution(sides):\n",
        "    answer = 0\n",
        "    sides.sort()\n",
        "    x1 = sides[0]\n",
        "    x2 = sides[1]\n",
        "    for i in range(1, x1+x2):\n",
        "        if x2 < i: # 나머지 변이 최대인경우\n",
        "            answer += 1\n",
        "        elif x1 + i > x2:  # x2 가 가장 긴 변일 경우\n",
        "            answer += 1\n",
        "    return answer"
      ]
    },
    {
      "cell_type": "code",
      "source": [
        "sides = [1, 2]\n",
        "solution(sides)"
      ],
      "metadata": {
        "colab": {
          "base_uri": "https://localhost:8080/"
        },
        "id": "hvWUkcr_gyJ1",
        "outputId": "3011d050-aa1c-4891-e4d6-8fd58fa44869"
      },
      "execution_count": 2,
      "outputs": [
        {
          "output_type": "execute_result",
          "data": {
            "text/plain": [
              "1"
            ]
          },
          "metadata": {},
          "execution_count": 2
        }
      ]
    },
    {
      "cell_type": "code",
      "source": [
        "sides = [3, 6]\n",
        "solution(sides)"
      ],
      "metadata": {
        "colab": {
          "base_uri": "https://localhost:8080/"
        },
        "id": "rZF4uResg1BS",
        "outputId": "1477d0a3-57d3-4878-e8ba-def9ec4d81eb"
      },
      "execution_count": 3,
      "outputs": [
        {
          "output_type": "execute_result",
          "data": {
            "text/plain": [
              "5"
            ]
          },
          "metadata": {},
          "execution_count": 3
        }
      ]
    },
    {
      "cell_type": "code",
      "source": [
        "sides = [11, 7]\n",
        "solution(sides)"
      ],
      "metadata": {
        "colab": {
          "base_uri": "https://localhost:8080/"
        },
        "id": "58-0qnDBg7FJ",
        "outputId": "90b1ba98-6a17-4c33-c1de-65f79658ea00"
      },
      "execution_count": 4,
      "outputs": [
        {
          "output_type": "execute_result",
          "data": {
            "text/plain": [
              "13"
            ]
          },
          "metadata": {},
          "execution_count": 4
        }
      ]
    }
  ]
}