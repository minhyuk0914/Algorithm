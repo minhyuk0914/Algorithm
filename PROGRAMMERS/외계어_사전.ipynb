{
  "nbformat": 4,
  "nbformat_minor": 0,
  "metadata": {
    "colab": {
      "provenance": [],
      "authorship_tag": "ABX9TyPOVuocJPNPw8XRZRBwhhrQ",
      "include_colab_link": true
    },
    "kernelspec": {
      "name": "python3",
      "display_name": "Python 3"
    },
    "language_info": {
      "name": "python"
    }
  },
  "cells": [
    {
      "cell_type": "markdown",
      "metadata": {
        "id": "view-in-github",
        "colab_type": "text"
      },
      "source": [
        "<a href=\"https://colab.research.google.com/github/minhyuk0914/Algorithm/blob/main/PROGRAMMERS/%EC%99%B8%EA%B3%84%EC%96%B4_%EC%82%AC%EC%A0%84.ipynb\" target=\"_parent\"><img src=\"https://colab.research.google.com/assets/colab-badge.svg\" alt=\"Open In Colab\"/></a>"
      ]
    },
    {
      "cell_type": "markdown",
      "source": [
        "문제설명\n",
        ">PROGRAMMERS-962 행성에 불시착한 우주비행사 머쓱이는 외계행성의 언어를 공부하려고 합니다. 알파벳이 담긴 배열 spell과 외계어 사전 dic이 매개변수로 주어집니다. spell에 담긴 알파벳을 한번씩만 모두 사용한 단어가 dic에 존재한다면 1, 존재하지 않는다면 2를 return하도록 solution 함수를 완성해주세요."
      ],
      "metadata": {
        "id": "bVDlXLL_vsce"
      }
    },
    {
      "cell_type": "markdown",
      "source": [
        "제한 사항\n",
        "* spell과 dic의 원소는 알파벳 소문자로만 이루어져있습니다.\n",
        "* 2 ≤ spell의 크기 ≤ 10\n",
        "* spell의 원소의 길이는 1입니다.\n",
        "* 1 ≤ dic의 크기 ≤ 10\n",
        "* 1 ≤ dic의 원소의 길이 ≤ 10\n",
        "* spell의 원소를 모두 사용해 단어를 만들어야 합니다.\n",
        "* spell의 원소를 모두 사용해 만들 수 있는 단어는 dic에 두 개 이상 존재하지 않습니다.\n",
        "* **dic과 spell 모두 중복된 원소를 갖지 않습니다.**"
      ],
      "metadata": {
        "id": "vWuKv-KvveNo"
      }
    },
    {
      "cell_type": "code",
      "execution_count": 1,
      "metadata": {
        "id": "jnq9S91IvByc"
      },
      "outputs": [],
      "source": [
        "# 나의 풀이\n",
        "def solution(spell, dic):\n",
        "    answer = 2\n",
        "    for i in dic:\n",
        "        if len(i) == len(spell): # dic의 원소와 spell 원소가 길이가 같은 것을 활용\n",
        "            if set(i) == set(spell): # 집합을 활용하여 같은 것일 경우 answer = 1\n",
        "                answer = 1\n",
        "\n",
        "    return answer"
      ]
    },
    {
      "cell_type": "code",
      "source": [
        "spell = [\"p\", \"o\", \"s\"]\n",
        "dic = [\"sod\", \"eocd\", \"qixm\", \"adio\", \"soo\"]\n",
        "solution(spell, dic)"
      ],
      "metadata": {
        "colab": {
          "base_uri": "https://localhost:8080/"
        },
        "id": "jStWLsCLvJti",
        "outputId": "9f910f14-242b-48b6-c7b1-90fb9ce4219f"
      },
      "execution_count": 2,
      "outputs": [
        {
          "output_type": "execute_result",
          "data": {
            "text/plain": [
              "2"
            ]
          },
          "metadata": {},
          "execution_count": 2
        }
      ]
    },
    {
      "cell_type": "code",
      "source": [
        "spell = [\"z\", \"d\", \"x\"]\n",
        "dic = [\"def\", \"dww\", \"dzx\", \"loveaw\"]\n",
        "solution(spell, dic)"
      ],
      "metadata": {
        "colab": {
          "base_uri": "https://localhost:8080/"
        },
        "id": "-8RAj7iJvOd2",
        "outputId": "a7082211-93dc-480a-81c6-de6abb15939a"
      },
      "execution_count": 3,
      "outputs": [
        {
          "output_type": "execute_result",
          "data": {
            "text/plain": [
              "1"
            ]
          },
          "metadata": {},
          "execution_count": 3
        }
      ]
    },
    {
      "cell_type": "code",
      "source": [
        "spell = [\"s\", \"o\", \"m\", \"d\"]\n",
        "dic = [\"moos\", \"dzx\", \"smm\", \"sunmmo\", \"som\"]\n",
        "solution(spell, dic)"
      ],
      "metadata": {
        "colab": {
          "base_uri": "https://localhost:8080/"
        },
        "id": "8zrGakJlvOtb",
        "outputId": "07e88b11-849b-436c-969f-444732173e59"
      },
      "execution_count": 4,
      "outputs": [
        {
          "output_type": "execute_result",
          "data": {
            "text/plain": [
              "2"
            ]
          },
          "metadata": {},
          "execution_count": 4
        }
      ]
    },
    {
      "cell_type": "code",
      "source": [
        "# 다른 사람 풀이 - 정렬을 이용한 풀이\n",
        "def solution(spell, dic):\n",
        "    for d in dic:\n",
        "        if sorted(d) == sorted(spell):  # dic 원소와 spell 을 정렬하였을 시에 같은 경우 return 1\n",
        "            return 1\n",
        "    return 2"
      ],
      "metadata": {
        "id": "gm8Be5f1wapO"
      },
      "execution_count": null,
      "outputs": []
    }
  ]
}