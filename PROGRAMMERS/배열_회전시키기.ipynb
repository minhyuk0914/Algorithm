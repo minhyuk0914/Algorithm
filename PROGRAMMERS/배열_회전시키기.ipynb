{
  "nbformat": 4,
  "nbformat_minor": 0,
  "metadata": {
    "colab": {
      "provenance": [],
      "authorship_tag": "ABX9TyNFRVIjuw/lxummTGPkSB5G",
      "include_colab_link": true
    },
    "kernelspec": {
      "name": "python3",
      "display_name": "Python 3"
    },
    "language_info": {
      "name": "python"
    }
  },
  "cells": [
    {
      "cell_type": "markdown",
      "metadata": {
        "id": "view-in-github",
        "colab_type": "text"
      },
      "source": [
        "<a href=\"https://colab.research.google.com/github/minhyuk0914/Algorithm/blob/main/PROGRAMMERS/%EB%B0%B0%EC%97%B4_%ED%9A%8C%EC%A0%84%EC%8B%9C%ED%82%A4%EA%B8%B0.ipynb\" target=\"_parent\"><img src=\"https://colab.research.google.com/assets/colab-badge.svg\" alt=\"Open In Colab\"/></a>"
      ]
    },
    {
      "cell_type": "code",
      "execution_count": 1,
      "metadata": {
        "id": "IMk9segBNtUU"
      },
      "outputs": [],
      "source": [
        "# 풀이\n",
        "def solution(numbers, direction):\n",
        "    answer = []\n",
        "    if direction == 'right':\n",
        "        answer.append(numbers[-1])\n",
        "        numbers.pop()\n",
        "        for i in numbers:\n",
        "            answer.append(i)\n",
        "\n",
        "    else: # left\n",
        "        for i in numbers[1:]:\n",
        "            answer.append(i)\n",
        "        answer.append(numbers[0])\n",
        "    return answer"
      ]
    },
    {
      "cell_type": "code",
      "source": [
        "numbers = [1, 2, 3]\n",
        "direction = \"right\"\n",
        "solution(numbers, direction)"
      ],
      "metadata": {
        "colab": {
          "base_uri": "https://localhost:8080/"
        },
        "id": "j7-V2fSOOBWY",
        "outputId": "cc3aae55-02cb-4d5d-80a4-f7a6da73799f"
      },
      "execution_count": 2,
      "outputs": [
        {
          "output_type": "execute_result",
          "data": {
            "text/plain": [
              "[3, 1, 2]"
            ]
          },
          "metadata": {},
          "execution_count": 2
        }
      ]
    },
    {
      "cell_type": "code",
      "source": [
        "numbers = [4, 455, 6, 4, -1, 45, 6]\n",
        "direction = \"left\"\n",
        "solution(numbers, direction)"
      ],
      "metadata": {
        "colab": {
          "base_uri": "https://localhost:8080/"
        },
        "id": "O0dm3wTAOI5M",
        "outputId": "7b87e5d2-668f-48fe-b2c6-4aa56064b1fc"
      },
      "execution_count": 3,
      "outputs": [
        {
          "output_type": "execute_result",
          "data": {
            "text/plain": [
              "[455, 6, 4, -1, 45, 6, 4]"
            ]
          },
          "metadata": {},
          "execution_count": 3
        }
      ]
    },
    {
      "cell_type": "code",
      "source": [
        "# 다른 사람 풀이 1 - 리스트 컴프리헨션\n",
        "def solution(numbers, direction):\n",
        "    return [numbers[-1]] + numbers[:-1] if direction == 'right' else numbers[1:] + [numbers[0]]\n"
      ],
      "metadata": {
        "id": "zgTRH5RjOTRV"
      },
      "execution_count": 4,
      "outputs": []
    },
    {
      "cell_type": "code",
      "source": [
        "# 다른 사람 풀이 2 - deque 활용\n",
        "from collections import deque\n",
        "\n",
        "def solution(numbers, direction):\n",
        "    numbers = deque(numbers)\n",
        "    if direction == 'right':\n",
        "        numbers.rotate(1) # 우회전\n",
        "    else:\n",
        "        numbers.rotate(-1) # 좌회전\n",
        "    return list(numbers)"
      ],
      "metadata": {
        "id": "ITmh_vyFOYz9"
      },
      "execution_count": 5,
      "outputs": []
    }
  ]
}