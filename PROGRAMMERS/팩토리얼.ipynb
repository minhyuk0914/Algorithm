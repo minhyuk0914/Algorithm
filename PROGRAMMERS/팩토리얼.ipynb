{
  "nbformat": 4,
  "nbformat_minor": 0,
  "metadata": {
    "colab": {
      "provenance": [],
      "authorship_tag": "ABX9TyOwtP/DbOrV8Fj57mv53155",
      "include_colab_link": true
    },
    "kernelspec": {
      "name": "python3",
      "display_name": "Python 3"
    },
    "language_info": {
      "name": "python"
    }
  },
  "cells": [
    {
      "cell_type": "markdown",
      "metadata": {
        "id": "view-in-github",
        "colab_type": "text"
      },
      "source": [
        "<a href=\"https://colab.research.google.com/github/minhyuk0914/Algorithm/blob/main/PROGRAMMERS/%ED%8C%A9%ED%86%A0%EB%A6%AC%EC%96%BC.ipynb\" target=\"_parent\"><img src=\"https://colab.research.google.com/assets/colab-badge.svg\" alt=\"Open In Colab\"/></a>"
      ]
    },
    {
      "cell_type": "code",
      "execution_count": 1,
      "metadata": {
        "id": "i4im4a5W6d3k"
      },
      "outputs": [],
      "source": [
        "# 풀이\n",
        "def solution(n):\n",
        "    total = 1\n",
        "    for i in range(1, 10 + 1): # 제한사항\n",
        "        total *= i\n",
        "        if total > n:\n",
        "            i = i - 1 # total 값이 n보다 높을시 i-1 값을 리턴 하기 위함\n",
        "            break;\n",
        "        elif total == n:\n",
        "            break;\n",
        "    return i"
      ]
    },
    {
      "cell_type": "code",
      "source": [
        "n = 3628800\n",
        "solution(n)"
      ],
      "metadata": {
        "colab": {
          "base_uri": "https://localhost:8080/"
        },
        "id": "92MTIhAY6hMT",
        "outputId": "7a1c0cab-6574-4059-a531-183ae4360b8c"
      },
      "execution_count": 2,
      "outputs": [
        {
          "output_type": "execute_result",
          "data": {
            "text/plain": [
              "10"
            ]
          },
          "metadata": {},
          "execution_count": 2
        }
      ]
    },
    {
      "cell_type": "code",
      "source": [
        "n = 7\n",
        "solution(n)"
      ],
      "metadata": {
        "colab": {
          "base_uri": "https://localhost:8080/"
        },
        "id": "zSSHCptp6lEV",
        "outputId": "e5c07ac6-acd7-493f-e766-2a3299b1014d"
      },
      "execution_count": 3,
      "outputs": [
        {
          "output_type": "execute_result",
          "data": {
            "text/plain": [
              "3"
            ]
          },
          "metadata": {},
          "execution_count": 3
        }
      ]
    },
    {
      "cell_type": "code",
      "source": [
        "# 다른 사람 풀이 - math.factorial\n",
        "from math import factorial\n",
        "\n",
        "def solution(n):\n",
        "    k = 10 # 제한사항\n",
        "    while n < factorial(k):\n",
        "        k -= 1\n",
        "    return k"
      ],
      "metadata": {
        "id": "tjiuUxyL6pKu"
      },
      "execution_count": 4,
      "outputs": []
    }
  ]
}