{
  "nbformat": 4,
  "nbformat_minor": 0,
  "metadata": {
    "colab": {
      "provenance": [],
      "authorship_tag": "ABX9TyND/9zddsRTJY+gSmhTOjuw",
      "include_colab_link": true
    },
    "kernelspec": {
      "name": "python3",
      "display_name": "Python 3"
    },
    "language_info": {
      "name": "python"
    }
  },
  "cells": [
    {
      "cell_type": "markdown",
      "metadata": {
        "id": "view-in-github",
        "colab_type": "text"
      },
      "source": [
        "<a href=\"https://colab.research.google.com/github/minhyuk0914/Algorithm/blob/main/PROGRAMMERS/%EB%AC%B8%EC%9E%90%EC%97%B4_%EC%A0%95%EB%A0%AC%ED%95%98%EA%B8%B0(1).ipynb\" target=\"_parent\"><img src=\"https://colab.research.google.com/assets/colab-badge.svg\" alt=\"Open In Colab\"/></a>"
      ]
    },
    {
      "cell_type": "code",
      "execution_count": 1,
      "metadata": {
        "id": "WogLzYsDo_3-"
      },
      "outputs": [],
      "source": [
        "# 풀이 - isdigit() 활용\n",
        "def solution(my_string):\n",
        "    answer = []\n",
        "    for i in my_string:\n",
        "        if i.isdigit() == True:\n",
        "            answer.append(int(i))\n",
        "    answer.sort()\n",
        "    return answer"
      ]
    },
    {
      "cell_type": "code",
      "source": [
        "my_string = \"hi12392\"\n",
        "solution(my_string)"
      ],
      "metadata": {
        "colab": {
          "base_uri": "https://localhost:8080/"
        },
        "id": "1YP51AOjpDJ8",
        "outputId": "e9850141-75f4-43e6-cabe-0e55694fd47d"
      },
      "execution_count": 2,
      "outputs": [
        {
          "output_type": "execute_result",
          "data": {
            "text/plain": [
              "[1, 2, 2, 3, 9]"
            ]
          },
          "metadata": {},
          "execution_count": 2
        }
      ]
    },
    {
      "cell_type": "code",
      "source": [
        "my_string = \"p2o4i8gj2\"\n",
        "solution(my_string)"
      ],
      "metadata": {
        "colab": {
          "base_uri": "https://localhost:8080/"
        },
        "id": "BnM0cA5vpI05",
        "outputId": "29aff59b-647f-4f34-d2ad-091bf8f6f304"
      },
      "execution_count": 3,
      "outputs": [
        {
          "output_type": "execute_result",
          "data": {
            "text/plain": [
              "[2, 2, 4, 8]"
            ]
          },
          "metadata": {},
          "execution_count": 3
        }
      ]
    },
    {
      "cell_type": "code",
      "source": [
        "my_string = \"abcde0\"\n",
        "solution(my_string)"
      ],
      "metadata": {
        "colab": {
          "base_uri": "https://localhost:8080/"
        },
        "id": "4TP8nvtApJZh",
        "outputId": "92fd5791-0442-4f16-adfb-1433fd48cf2a"
      },
      "execution_count": 4,
      "outputs": [
        {
          "output_type": "execute_result",
          "data": {
            "text/plain": [
              "[0]"
            ]
          },
          "metadata": {},
          "execution_count": 4
        }
      ]
    },
    {
      "cell_type": "code",
      "source": [
        "# 다른 사람 풀이 - re 정규표현식 라이브러리 사용\n",
        "import re\n",
        "\n",
        "def solution(my_string):\n",
        "    return sorted(map(int, (list(re.sub('[^0-9]', '', my_string)))))"
      ],
      "metadata": {
        "id": "0KnjiLTxpcDd"
      },
      "execution_count": 5,
      "outputs": []
    }
  ]
}