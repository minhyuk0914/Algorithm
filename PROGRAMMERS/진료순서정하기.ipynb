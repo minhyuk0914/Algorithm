{
  "nbformat": 4,
  "nbformat_minor": 0,
  "metadata": {
    "colab": {
      "provenance": [],
      "authorship_tag": "ABX9TyMqKTafeE3eIqRe6ZdlR4Jd",
      "include_colab_link": true
    },
    "kernelspec": {
      "name": "python3",
      "display_name": "Python 3"
    },
    "language_info": {
      "name": "python"
    }
  },
  "cells": [
    {
      "cell_type": "markdown",
      "metadata": {
        "id": "view-in-github",
        "colab_type": "text"
      },
      "source": [
        "<a href=\"https://colab.research.google.com/github/minhyuk0914/Algorithm/blob/main/PROGRAMMERS/%EC%A7%84%EB%A3%8C%EC%88%9C%EC%84%9C%EC%A0%95%ED%95%98%EA%B8%B0.ipynb\" target=\"_parent\"><img src=\"https://colab.research.google.com/assets/colab-badge.svg\" alt=\"Open In Colab\"/></a>"
      ]
    },
    {
      "cell_type": "code",
      "execution_count": 1,
      "metadata": {
        "id": "12EhnoYJvXEM"
      },
      "outputs": [],
      "source": [
        "# 나의 풀이\n",
        "def solution(emergency):\n",
        "    emergency_dict = {\n",
        "    val : idx for idx, val in enumerate(sorted(emergency, reverse=True), start = 1)\n",
        "}\n",
        "    return [emergency_dict[val] for val in emergency]"
      ]
    },
    {
      "cell_type": "code",
      "source": [
        "emergency = [3, 76, 24]\n",
        "solution(emergency)"
      ],
      "metadata": {
        "colab": {
          "base_uri": "https://localhost:8080/"
        },
        "id": "t0tZQ_9ZvbjI",
        "outputId": "88b27e79-2534-49b3-dee7-8085042feb0d"
      },
      "execution_count": 2,
      "outputs": [
        {
          "output_type": "execute_result",
          "data": {
            "text/plain": [
              "[3, 1, 2]"
            ]
          },
          "metadata": {},
          "execution_count": 2
        }
      ]
    },
    {
      "cell_type": "code",
      "source": [
        "emergency = [1, 2, 3, 4, 5, 6, 7]\n",
        "solution(emergency)"
      ],
      "metadata": {
        "colab": {
          "base_uri": "https://localhost:8080/"
        },
        "id": "Lg-E9qA10tXo",
        "outputId": "9500f916-f546-42cf-b57a-72b1a930f81c"
      },
      "execution_count": 3,
      "outputs": [
        {
          "output_type": "execute_result",
          "data": {
            "text/plain": [
              "[7, 6, 5, 4, 3, 2, 1]"
            ]
          },
          "metadata": {},
          "execution_count": 3
        }
      ]
    },
    {
      "cell_type": "code",
      "source": [
        "emergency = [30, 10, 23, 6, 100]\n",
        "solution(emergency)"
      ],
      "metadata": {
        "colab": {
          "base_uri": "https://localhost:8080/"
        },
        "id": "5VzkLZW90wz8",
        "outputId": "53bfce59-25c5-4f8b-8e42-d9f15d775360"
      },
      "execution_count": 4,
      "outputs": [
        {
          "output_type": "execute_result",
          "data": {
            "text/plain": [
              "[2, 4, 3, 5, 1]"
            ]
          },
          "metadata": {},
          "execution_count": 4
        }
      ]
    },
    {
      "cell_type": "code",
      "source": [
        "# 다른 사람 풀이 1 - 딕셔너리 사용 X\n",
        "def solution(emergency):\n",
        "    e = sorted(emergency,reverse=True)\n",
        "    return [e.index(i)+1 for i in emergency]"
      ],
      "metadata": {
        "id": "ntB_lDfR04PL"
      },
      "execution_count": 5,
      "outputs": []
    },
    {
      "cell_type": "code",
      "source": [
        "# 다른 사람 풀이 2 - 정렬 사용 X\n",
        "def solution(emergency):\n",
        "    arr = []\n",
        "    for i in emergency:\n",
        "        idx = 1\n",
        "        for j in emergency:\n",
        "            if i < j:\n",
        "                idx += 1\n",
        "        arr.append(idx)\n",
        "    return arr"
      ],
      "metadata": {
        "id": "yqFgT9TL1Fd0"
      },
      "execution_count": 6,
      "outputs": []
    }
  ]
}