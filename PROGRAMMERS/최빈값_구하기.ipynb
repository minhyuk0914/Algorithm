{
  "nbformat": 4,
  "nbformat_minor": 0,
  "metadata": {
    "colab": {
      "provenance": [],
      "authorship_tag": "ABX9TyPwmXmwEslLaBijtelKElFr",
      "include_colab_link": true
    },
    "kernelspec": {
      "name": "python3",
      "display_name": "Python 3"
    },
    "language_info": {
      "name": "python"
    }
  },
  "cells": [
    {
      "cell_type": "markdown",
      "metadata": {
        "id": "view-in-github",
        "colab_type": "text"
      },
      "source": [
        "<a href=\"https://colab.research.google.com/github/minhyuk0914/Algorithm/blob/main/PROGRAMMERS/%EC%B5%9C%EB%B9%88%EA%B0%92_%EA%B5%AC%ED%95%98%EA%B8%B0.ipynb\" target=\"_parent\"><img src=\"https://colab.research.google.com/assets/colab-badge.svg\" alt=\"Open In Colab\"/></a>"
      ]
    },
    {
      "cell_type": "code",
      "execution_count": null,
      "metadata": {
        "id": "siKZYZK2iGyZ"
      },
      "outputs": [],
      "source": [
        "# 풀이\n",
        "def solution(array):\n",
        "    dict = {}\n",
        "\n",
        "    # 배열의 집합의 길이가 1일때 array[0] 값 반환\n",
        "    if len(set(array)) == 1:\n",
        "            return array[0]\n",
        "\n",
        "    for i in range(len(array)):\n",
        "        if array[i] in dict:\n",
        "            dict[array[i]] += 1\n",
        "        else:\n",
        "            dict[array[i]] = 1\n",
        "    result = sorted(dict.items(), key = lambda x : x[-1], reverse = True)\n",
        "\n",
        "    if result[0][-1] != result[1][-1]:\n",
        "        return result[0][0]\n",
        "    else:\n",
        "        return -1"
      ]
    },
    {
      "cell_type": "code",
      "source": [
        "array_1 = [1, 2, 3, 3, 3, 4, 4, 4]"
      ],
      "metadata": {
        "id": "4v_pleixiPoS"
      },
      "execution_count": null,
      "outputs": []
    },
    {
      "cell_type": "code",
      "source": [
        "array_2 = [1, 2, 3, 3, 3, 4]"
      ],
      "metadata": {
        "id": "4SFsvm_sjuhf"
      },
      "execution_count": null,
      "outputs": []
    },
    {
      "cell_type": "code",
      "source": [
        "array_3 = [1, 1, 1]"
      ],
      "metadata": {
        "id": "6F36_M0cjdSv"
      },
      "execution_count": null,
      "outputs": []
    },
    {
      "cell_type": "code",
      "source": [
        "solution(array_1) # [1, 2, 3, 3, 3, 4, 4, 4]"
      ],
      "metadata": {
        "colab": {
          "base_uri": "https://localhost:8080/"
        },
        "id": "voKJi4UKiT7n",
        "outputId": "1c04c35a-c4ad-473f-8d6e-4e8c57ad8463"
      },
      "execution_count": null,
      "outputs": [
        {
          "output_type": "execute_result",
          "data": {
            "text/plain": [
              "-1"
            ]
          },
          "metadata": {},
          "execution_count": 5
        }
      ]
    },
    {
      "cell_type": "code",
      "source": [
        "solution(array_2) # [1, 2, 3, 3, 3, 4]"
      ],
      "metadata": {
        "colab": {
          "base_uri": "https://localhost:8080/"
        },
        "id": "yBn2OUrEjrVD",
        "outputId": "dda49ec5-eefd-4fe8-8ebe-fdca10af5821"
      },
      "execution_count": null,
      "outputs": [
        {
          "output_type": "execute_result",
          "data": {
            "text/plain": [
              "3"
            ]
          },
          "metadata": {},
          "execution_count": 6
        }
      ]
    },
    {
      "cell_type": "code",
      "source": [
        "solution(array_3) # [1, 1, 1]"
      ],
      "metadata": {
        "colab": {
          "base_uri": "https://localhost:8080/"
        },
        "id": "oYIQXiCnjx2_",
        "outputId": "1237f9f4-d480-49ab-ef26-79277245ee8b"
      },
      "execution_count": null,
      "outputs": [
        {
          "output_type": "execute_result",
          "data": {
            "text/plain": [
              "1"
            ]
          },
          "metadata": {},
          "execution_count": 7
        }
      ]
    },
    {
      "cell_type": "code",
      "source": [
        "# 다른 사람 풀이 - enumerate() 적용\n",
        "def solution(array):\n",
        "    while len(array) != 0:\n",
        "        for i, a in enumerate(set(array)):\n",
        "            array.remove(a)\n",
        "        if i == 0: return a\n",
        "    return -1"
      ],
      "metadata": {
        "id": "BOvMeKL-kHVG"
      },
      "execution_count": null,
      "outputs": []
    }
  ]
}