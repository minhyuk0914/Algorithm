{
  "nbformat": 4,
  "nbformat_minor": 0,
  "metadata": {
    "colab": {
      "provenance": [],
      "authorship_tag": "ABX9TyPJQu4z2an+7ulD9hWmpQVy",
      "include_colab_link": true
    },
    "kernelspec": {
      "name": "python3",
      "display_name": "Python 3"
    },
    "language_info": {
      "name": "python"
    }
  },
  "cells": [
    {
      "cell_type": "markdown",
      "metadata": {
        "id": "view-in-github",
        "colab_type": "text"
      },
      "source": [
        "<a href=\"https://colab.research.google.com/github/minhyuk0914/Algorithm/blob/main/PROGRAMMERS/%EA%B5%AC%EC%8A%AC%EC%9D%84_%EB%82%98%EB%88%84%EB%8A%94_%EA%B2%BD%EC%9A%B0%EC%9D%98_%EC%88%98.ipynb\" target=\"_parent\"><img src=\"https://colab.research.google.com/assets/colab-badge.svg\" alt=\"Open In Colab\"/></a>"
      ]
    },
    {
      "cell_type": "code",
      "execution_count": 1,
      "metadata": {
        "id": "A00BKwIgincu"
      },
      "outputs": [],
      "source": [
        "# 나의 풀이 - factorial이용 - n!/((n-m)! * m!)\n",
        "import math\n",
        "def solution(balls, share):\n",
        "    return math.factorial(balls)/(math.factorial(balls-share) * math.factorial(share))"
      ]
    },
    {
      "cell_type": "code",
      "source": [
        "balls = 3\n",
        "share = 2\n",
        "solution(balls, share)"
      ],
      "metadata": {
        "colab": {
          "base_uri": "https://localhost:8080/"
        },
        "id": "ufnIZ6uXipKa",
        "outputId": "7e8cc5ed-1e1b-4174-c347-9f76d1164e57"
      },
      "execution_count": 2,
      "outputs": [
        {
          "output_type": "execute_result",
          "data": {
            "text/plain": [
              "3.0"
            ]
          },
          "metadata": {},
          "execution_count": 2
        }
      ]
    },
    {
      "cell_type": "code",
      "source": [
        "balls = 5\n",
        "share = 3\n",
        "solution(balls, share)"
      ],
      "metadata": {
        "colab": {
          "base_uri": "https://localhost:8080/"
        },
        "id": "kQQz5b0tirTD",
        "outputId": "dddeb7a5-5a6b-4858-e1c6-6e592b22eb1b"
      },
      "execution_count": 3,
      "outputs": [
        {
          "output_type": "execute_result",
          "data": {
            "text/plain": [
              "10.0"
            ]
          },
          "metadata": {},
          "execution_count": 3
        }
      ]
    },
    {
      "cell_type": "code",
      "source": [
        "# 다른 사람 풀이 - 조합 이용\n",
        "import math\n",
        "\n",
        "\n",
        "def solution_comb(balls, share):\n",
        "    return math.comb(balls, share)"
      ],
      "metadata": {
        "id": "5aDjDMBLirQl"
      },
      "execution_count": 4,
      "outputs": []
    },
    {
      "cell_type": "code",
      "source": [
        "balls = 3\n",
        "share = 2\n",
        "solution_comb(balls, share)"
      ],
      "metadata": {
        "colab": {
          "base_uri": "https://localhost:8080/"
        },
        "id": "PuSfCOVMjIRX",
        "outputId": "6c95df74-76e9-4e88-a781-3f0606a26aa3"
      },
      "execution_count": 5,
      "outputs": [
        {
          "output_type": "execute_result",
          "data": {
            "text/plain": [
              "3"
            ]
          },
          "metadata": {},
          "execution_count": 5
        }
      ]
    },
    {
      "cell_type": "code",
      "source": [
        "balls = 5\n",
        "share = 3\n",
        "solution_comb(balls, share)"
      ],
      "metadata": {
        "colab": {
          "base_uri": "https://localhost:8080/"
        },
        "id": "TJsndCvJjK1I",
        "outputId": "60922e1b-3caf-4355-dd5c-510b5bc36ef0"
      },
      "execution_count": 6,
      "outputs": [
        {
          "output_type": "execute_result",
          "data": {
            "text/plain": [
              "10"
            ]
          },
          "metadata": {},
          "execution_count": 6
        }
      ]
    }
  ]
}