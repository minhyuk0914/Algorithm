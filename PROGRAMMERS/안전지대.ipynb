{
  "nbformat": 4,
  "nbformat_minor": 0,
  "metadata": {
    "colab": {
      "provenance": [],
      "authorship_tag": "ABX9TyMXY8WGD9B7x8B/riB14dUn",
      "include_colab_link": true
    },
    "kernelspec": {
      "name": "python3",
      "display_name": "Python 3"
    },
    "language_info": {
      "name": "python"
    }
  },
  "cells": [
    {
      "cell_type": "markdown",
      "metadata": {
        "id": "view-in-github",
        "colab_type": "text"
      },
      "source": [
        "<a href=\"https://colab.research.google.com/github/minhyuk0914/Algorithm/blob/main/PROGRAMMERS/%EC%95%88%EC%A0%84%EC%A7%80%EB%8C%80.ipynb\" target=\"_parent\"><img src=\"https://colab.research.google.com/assets/colab-badge.svg\" alt=\"Open In Colab\"/></a>"
      ]
    },
    {
      "cell_type": "code",
      "execution_count": 1,
      "metadata": {
        "id": "IUogK3PWIIiQ"
      },
      "outputs": [],
      "source": [
        "# 나의 풀이\n",
        "def solution(board):\n",
        "    answer = 0\n",
        "    for i in range(len(board)):\n",
        "        for j in range(len(board[i])):\n",
        "            if board[i][j] == 1:\n",
        "                for x in range(-1, 2):\n",
        "                    for y in range(-1, 2):\n",
        "                        try:\n",
        "                            if i + x >= 0 and j + y >= 0:\n",
        "                                if board[i+x][j+y] == 0:\n",
        "                                    board[i+x][j+y] = 2\n",
        "                        except:\n",
        "                            continue;\n",
        "    return str(board).count(\"0\")"
      ]
    },
    {
      "cell_type": "code",
      "source": [
        "board = [[0, 0, 0, 0, 0], [0, 0, 0, 0, 0], [0, 0, 0, 0, 0], [0, 0, 1, 0, 0], [0, 0, 0, 0, 0]]\n",
        "solution(board)"
      ],
      "metadata": {
        "colab": {
          "base_uri": "https://localhost:8080/"
        },
        "id": "ePk4V-gEIm3Q",
        "outputId": "ca3779d1-30b8-4bed-84b7-36b9f960d9e5"
      },
      "execution_count": 2,
      "outputs": [
        {
          "output_type": "execute_result",
          "data": {
            "text/plain": [
              "16"
            ]
          },
          "metadata": {},
          "execution_count": 2
        }
      ]
    },
    {
      "cell_type": "code",
      "source": [
        "board = [[0, 0, 0, 0, 0], [0, 0, 0, 0, 0], [0, 0, 0, 0, 0], [0, 0, 1, 1, 0], [0, 0, 0, 0, 0]]\n",
        "solution(board)"
      ],
      "metadata": {
        "colab": {
          "base_uri": "https://localhost:8080/"
        },
        "id": "458ypQ0uIr7m",
        "outputId": "105bcecc-9e4f-48e2-c9ea-f77f248f754e"
      },
      "execution_count": 3,
      "outputs": [
        {
          "output_type": "execute_result",
          "data": {
            "text/plain": [
              "13"
            ]
          },
          "metadata": {},
          "execution_count": 3
        }
      ]
    },
    {
      "cell_type": "code",
      "source": [
        "board = [[1, 1, 1, 1, 1, 1], [1, 1, 1, 1, 1, 1], [1, 1, 1, 1, 1, 1], [1, 1, 1, 1, 1, 1], [1, 1, 1, 1, 1, 1], [1, 1, 1, 1, 1, 1]]\n",
        "solution(board)"
      ],
      "metadata": {
        "colab": {
          "base_uri": "https://localhost:8080/"
        },
        "id": "h1ACgAUvIvno",
        "outputId": "f4b97860-79da-4de2-dd2e-ef5c9f3f6c46"
      },
      "execution_count": 4,
      "outputs": [
        {
          "output_type": "execute_result",
          "data": {
            "text/plain": [
              "0"
            ]
          },
          "metadata": {},
          "execution_count": 4
        }
      ]
    },
    {
      "cell_type": "code",
      "source": [
        "# 다른 사람 풀이\n",
        "\"\"\"\n",
        "max(값 , 0) 을 통하여 0 미만일 시 0으로 처리\n",
        "min(값, len(board)) 을 통하여 범위의 값 보다 큰 값이 올 경우 범위의 값인 len(board)로 처리\n",
        "\"\"\"\n",
        "def solution(board):\n",
        "    answer = 0\n",
        "\n",
        "    for col in range(len(board)):\n",
        "        for row in range(len(board[col])):\n",
        "            if board[row][col] == 1:\n",
        "                for j in range(max(col-1,0),min(col+2,len(board))):\n",
        "                    for i in range(max(row-1,0),min(row+2,len(board))):\n",
        "                        if board[i][j] == 1:\n",
        "                            continue\n",
        "                        board[i][j] = -1\n",
        "    for i in board:\n",
        "        answer += i.count(0)\n",
        "\n",
        "    return answer"
      ],
      "metadata": {
        "id": "-S5CuvtKJGtJ"
      },
      "execution_count": 5,
      "outputs": []
    }
  ]
}