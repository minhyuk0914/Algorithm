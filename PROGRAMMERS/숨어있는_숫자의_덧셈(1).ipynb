{
  "nbformat": 4,
  "nbformat_minor": 0,
  "metadata": {
    "colab": {
      "provenance": [],
      "authorship_tag": "ABX9TyPlSMo54yv1Fvk/H1N6ExM0",
      "include_colab_link": true
    },
    "kernelspec": {
      "name": "python3",
      "display_name": "Python 3"
    },
    "language_info": {
      "name": "python"
    }
  },
  "cells": [
    {
      "cell_type": "markdown",
      "metadata": {
        "id": "view-in-github",
        "colab_type": "text"
      },
      "source": [
        "<a href=\"https://colab.research.google.com/github/minhyuk0914/Algorithm/blob/main/PROGRAMMERS/%EC%88%A8%EC%96%B4%EC%9E%88%EB%8A%94_%EC%88%AB%EC%9E%90%EC%9D%98_%EB%8D%A7%EC%85%88(1).ipynb\" target=\"_parent\"><img src=\"https://colab.research.google.com/assets/colab-badge.svg\" alt=\"Open In Colab\"/></a>"
      ]
    },
    {
      "cell_type": "markdown",
      "source": [
        "https://school.programmers.co.kr/learn/courses/30/lessons/120851"
      ],
      "metadata": {
        "id": "gqk_vQW714ZJ"
      }
    },
    {
      "cell_type": "code",
      "execution_count": 1,
      "metadata": {
        "id": "dcNrD0XC1n03"
      },
      "outputs": [],
      "source": [
        "# 나의 풀이\n",
        "def solution(my_string):\n",
        "    answer = 0\n",
        "    for i in range(len(my_string)):\n",
        "        if(my_string[i] >= '0' and my_string[i] <= '9'):\n",
        "            answer += int(my_string[i])\n",
        "    return answer"
      ]
    },
    {
      "cell_type": "code",
      "source": [
        "my_string = 'aAb1B2cC34oOp'\n",
        "solution(my_string)"
      ],
      "metadata": {
        "colab": {
          "base_uri": "https://localhost:8080/"
        },
        "id": "ZftPqnRm1uC_",
        "outputId": "b59ae556-99f8-4716-e4a6-ec5c030441b8"
      },
      "execution_count": 2,
      "outputs": [
        {
          "output_type": "execute_result",
          "data": {
            "text/plain": [
              "10"
            ]
          },
          "metadata": {},
          "execution_count": 2
        }
      ]
    },
    {
      "cell_type": "code",
      "source": [
        "my_string = '1a2b3c4d123'\n",
        "solution(my_string)"
      ],
      "metadata": {
        "colab": {
          "base_uri": "https://localhost:8080/"
        },
        "id": "hyl7QGDl2DJK",
        "outputId": "c3ff44d8-3f23-473e-c8a6-f93f147d0af4"
      },
      "execution_count": 3,
      "outputs": [
        {
          "output_type": "execute_result",
          "data": {
            "text/plain": [
              "16"
            ]
          },
          "metadata": {},
          "execution_count": 3
        }
      ]
    },
    {
      "cell_type": "code",
      "source": [
        "# 다른 사람 풀이 - 1\n",
        "\"\"\"\n",
        "str.isdigit() : 문자열이 '숫자'로 이루어져 있는지 확인하는 함수. 하나라도 '문자'가 있으면 False로 나온다.\n",
        "\"\"\"\n",
        "\n",
        "def solution_1(my_string):\n",
        "    answer = 0\n",
        "    for i in range(len(my_string)):\n",
        "        if my_string[i].isdigit() == True:\n",
        "            answer += int(my_string[i])\n",
        "    return answer\n"
      ],
      "metadata": {
        "id": "RO-OGONU2Kc_"
      },
      "execution_count": 4,
      "outputs": []
    },
    {
      "cell_type": "code",
      "source": [
        "my_string = 'aAb1B2cC34oOp'\n",
        "solution_1(my_string)"
      ],
      "metadata": {
        "colab": {
          "base_uri": "https://localhost:8080/"
        },
        "id": "cGB9jWwg21kg",
        "outputId": "6075fb5e-fd0d-4b2d-dcdd-db4edff1cf08"
      },
      "execution_count": 5,
      "outputs": [
        {
          "output_type": "execute_result",
          "data": {
            "text/plain": [
              "10"
            ]
          },
          "metadata": {},
          "execution_count": 5
        }
      ]
    },
    {
      "cell_type": "code",
      "source": [
        "# 다른 사람 풀이 - 2\n",
        "\"\"\"\n",
        "re(정규표현식) 라이브러리 활용\n",
        "\"\"\"\n",
        "\n",
        "import re\n",
        "def solution_2(num_list):\n",
        "    sum = 0\n",
        "    for i in re.findall(r'\\d', num_list):\n",
        "        sum = sum + int(i)\n",
        "    return sum"
      ],
      "metadata": {
        "id": "e6fBZbKi2R8n"
      },
      "execution_count": 6,
      "outputs": []
    },
    {
      "cell_type": "code",
      "source": [
        "my_string = 'aAb1B2cC34oOp'\n",
        "solution_2(my_string)"
      ],
      "metadata": {
        "colab": {
          "base_uri": "https://localhost:8080/"
        },
        "id": "0htRq9Va27K3",
        "outputId": "ab75c6fa-6314-489c-c775-a3eb77084726"
      },
      "execution_count": 7,
      "outputs": [
        {
          "output_type": "execute_result",
          "data": {
            "text/plain": [
              "10"
            ]
          },
          "metadata": {},
          "execution_count": 7
        }
      ]
    }
  ]
}