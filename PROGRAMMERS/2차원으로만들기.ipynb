{
  "nbformat": 4,
  "nbformat_minor": 0,
  "metadata": {
    "colab": {
      "provenance": [],
      "authorship_tag": "ABX9TyNUmbL5Ux0YyD3NBKNo3jTq",
      "include_colab_link": true
    },
    "kernelspec": {
      "name": "python3",
      "display_name": "Python 3"
    },
    "language_info": {
      "name": "python"
    }
  },
  "cells": [
    {
      "cell_type": "markdown",
      "metadata": {
        "id": "view-in-github",
        "colab_type": "text"
      },
      "source": [
        "<a href=\"https://colab.research.google.com/github/minhyuk0914/Algorithm/blob/main/PROGRAMMERS/2%EC%B0%A8%EC%9B%90%EC%9C%BC%EB%A1%9C%EB%A7%8C%EB%93%A4%EA%B8%B0.ipynb\" target=\"_parent\"><img src=\"https://colab.research.google.com/assets/colab-badge.svg\" alt=\"Open In Colab\"/></a>"
      ]
    },
    {
      "cell_type": "code",
      "execution_count": 1,
      "metadata": {
        "id": "OUlUqExz9VXe"
      },
      "outputs": [],
      "source": [
        "# 풀이\n",
        "def solution(num_list, n):\n",
        "    answer = [] # 1차원 array 만들기\n",
        "    for i in list(range(0, len(num_list), n)): # num_list르 n만큼 잘라서 리스트에 보관\n",
        "        answer.append(num_list[i:n+i]) # 반복문을 통해 리스트삽입\n",
        "    return answer"
      ]
    },
    {
      "cell_type": "code",
      "source": [
        "num_list = [1, 2, 3, 4, 5, 6, 7, 8]\n",
        "n = 2\n",
        "solution(num_list, n)"
      ],
      "metadata": {
        "colab": {
          "base_uri": "https://localhost:8080/"
        },
        "id": "g-ko3s6T9mwe",
        "outputId": "82da7ee0-d2b5-4b89-86d5-cd7d7d12b2d7"
      },
      "execution_count": 2,
      "outputs": [
        {
          "output_type": "execute_result",
          "data": {
            "text/plain": [
              "[[1, 2], [3, 4], [5, 6], [7, 8]]"
            ]
          },
          "metadata": {},
          "execution_count": 2
        }
      ]
    },
    {
      "cell_type": "code",
      "source": [
        "num_list = [100, 95, 2, 4, 5, 6, 18, 33, 948]\n",
        "n = 3\n",
        "solution(num_list, n)"
      ],
      "metadata": {
        "colab": {
          "base_uri": "https://localhost:8080/"
        },
        "id": "p5d8pELE9wkm",
        "outputId": "cac31c71-cabc-4596-d9c7-1ca9b6c3b694"
      },
      "execution_count": 3,
      "outputs": [
        {
          "output_type": "execute_result",
          "data": {
            "text/plain": [
              "[[100, 95, 2], [4, 5, 6], [18, 33, 948]]"
            ]
          },
          "metadata": {},
          "execution_count": 3
        }
      ]
    },
    {
      "cell_type": "code",
      "source": [
        "# 다른 사람 풀이 - np.reshape() 활용\n",
        "\"\"\"\n",
        "np.reshape(x, y)\n",
        "ex) np.array() -> (8,0) 일때, np.reshape(4, 2) 로 행렬 변환\n",
        "또한, np.reshape(4, 3)으로 기존 바꾸려는 행렬 크기가 다를시 실행 x\n",
        "추가로, np.reshape(4, -1)을 할 시에 행렬 (4, 2)로 변경.\n",
        "-1은 행렬 전체 크기에 맞춰 해당되는 숫자로 적용됨\n",
        "\"\"\"\n",
        "import numpy as np\n",
        "def solution(num_list, n):\n",
        "    li = np.array(num_list).reshape(-1,n)\n",
        "    return li.tolist() # 출력형식인 list로 형변환"
      ],
      "metadata": {
        "id": "WmGIUzlc-Nty"
      },
      "execution_count": 4,
      "outputs": []
    }
  ]
}