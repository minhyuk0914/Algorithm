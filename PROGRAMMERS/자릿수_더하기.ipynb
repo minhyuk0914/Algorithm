{
  "nbformat": 4,
  "nbformat_minor": 0,
  "metadata": {
    "colab": {
      "provenance": [],
      "authorship_tag": "ABX9TyPmCdRhPqFDKLVMg8Hkd/C1",
      "include_colab_link": true
    },
    "kernelspec": {
      "name": "python3",
      "display_name": "Python 3"
    },
    "language_info": {
      "name": "python"
    }
  },
  "cells": [
    {
      "cell_type": "markdown",
      "metadata": {
        "id": "view-in-github",
        "colab_type": "text"
      },
      "source": [
        "<a href=\"https://colab.research.google.com/github/minhyuk0914/Algorithm/blob/main/PROGRAMMERS/%EC%9E%90%EB%A6%BF%EC%88%98_%EB%8D%94%ED%95%98%EA%B8%B0.ipynb\" target=\"_parent\"><img src=\"https://colab.research.google.com/assets/colab-badge.svg\" alt=\"Open In Colab\"/></a>"
      ]
    },
    {
      "cell_type": "code",
      "source": [
        "# 풀이\n",
        "def solution(n):\n",
        "    answer = []\n",
        "    for i in str(n):\n",
        "        answer.append(int(i))\n",
        "    return sum(answer)"
      ],
      "metadata": {
        "id": "cleHnf_u49uc"
      },
      "execution_count": 1,
      "outputs": []
    },
    {
      "cell_type": "code",
      "source": [
        "n = 1234\n",
        "solution(n)"
      ],
      "metadata": {
        "colab": {
          "base_uri": "https://localhost:8080/"
        },
        "id": "OBLU-GnI4-lz",
        "outputId": "1ef4d9e0-dbd0-497c-d589-1d9d65d4963a"
      },
      "execution_count": 2,
      "outputs": [
        {
          "output_type": "execute_result",
          "data": {
            "text/plain": [
              "10"
            ]
          },
          "metadata": {},
          "execution_count": 2
        }
      ]
    },
    {
      "cell_type": "code",
      "source": [
        "n = 930211\n",
        "solution(n)"
      ],
      "metadata": {
        "colab": {
          "base_uri": "https://localhost:8080/"
        },
        "id": "_9cNBUOH5FAB",
        "outputId": "8c4ec582-7eac-4af6-f485-65d9e844dda3"
      },
      "execution_count": 3,
      "outputs": [
        {
          "output_type": "execute_result",
          "data": {
            "text/plain": [
              "16"
            ]
          },
          "metadata": {},
          "execution_count": 3
        }
      ]
    },
    {
      "cell_type": "code",
      "source": [
        "# 다른 사람 풀이 - map()사용\n",
        "def solution(n):\n",
        "    answer = sum(list(map(int,list(str(n)))))\n",
        "    return answer"
      ],
      "metadata": {
        "id": "ecE3bmrk5Ksj"
      },
      "execution_count": 4,
      "outputs": []
    }
  ]
}