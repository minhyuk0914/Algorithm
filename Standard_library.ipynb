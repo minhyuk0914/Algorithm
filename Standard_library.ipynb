{
  "nbformat": 4,
  "nbformat_minor": 0,
  "metadata": {
    "colab": {
      "provenance": [],
      "toc_visible": true,
      "authorship_tag": "ABX9TyM2ywpyvMst3q7ablXx6ooa",
      "include_colab_link": true
    },
    "kernelspec": {
      "name": "python3",
      "display_name": "Python 3"
    },
    "language_info": {
      "name": "python"
    }
  },
  "cells": [
    {
      "cell_type": "markdown",
      "metadata": {
        "id": "view-in-github",
        "colab_type": "text"
      },
      "source": [
        "<a href=\"https://colab.research.google.com/github/minhyuk0914/Algorithm/blob/main/Standard_library.ipynb\" target=\"_parent\"><img src=\"https://colab.research.google.com/assets/colab-badge.svg\" alt=\"Open In Colab\"/></a>"
      ]
    },
    {
      "cell_type": "markdown",
      "source": [
        "# python 코딩테스트 준비시 알아야 하는 표준 라이브러리"
      ],
      "metadata": {
        "id": "A3ttx8XtX8Mg"
      }
    },
    {
      "cell_type": "markdown",
      "source": [
        "## 1. 내장 함수\n",
        ": 기본 내장 라이브러리"
      ],
      "metadata": {
        "id": "2o49GfuzYQYk"
      }
    },
    {
      "cell_type": "markdown",
      "source": [
        "### 1 . sum()\n",
        ": iterable 객체(리스트, 사전 자료형, 튜플 자료형 등)의 **모든 원소의 합** 반환"
      ],
      "metadata": {
        "id": "LmXwqDnlZGmz"
      }
    },
    {
      "cell_type": "code",
      "source": [
        "data = [11, 3, 5, 6, 8]\n",
        "result = sum(data)\n",
        "print(result)"
      ],
      "metadata": {
        "id": "jmauKSjoYUcD",
        "colab": {
          "base_uri": "https://localhost:8080/"
        },
        "outputId": "55831f9c-b003-4d0d-f2c9-3be27d7d5b4f"
      },
      "execution_count": 1,
      "outputs": [
        {
          "output_type": "stream",
          "name": "stdout",
          "text": [
            "33\n"
          ]
        }
      ]
    },
    {
      "cell_type": "markdown",
      "source": [
        "### 2 . min()\n",
        ": 파라미터가 2개 이상 들어왔을 때 **가장 작은 값** 반환"
      ],
      "metadata": {
        "id": "PylVinbNaESF"
      }
    },
    {
      "cell_type": "code",
      "source": [
        "data = [11, 3, 5, 6, 8]\n",
        "result = min(data)\n",
        "print(result)"
      ],
      "metadata": {
        "colab": {
          "base_uri": "https://localhost:8080/"
        },
        "id": "4bby0Sc2aLPL",
        "outputId": "2d3f8453-2a67-49f8-9eb9-446109f3f386"
      },
      "execution_count": 2,
      "outputs": [
        {
          "output_type": "stream",
          "name": "stdout",
          "text": [
            "3\n"
          ]
        }
      ]
    },
    {
      "cell_type": "markdown",
      "source": [
        "### 3 . max()\n",
        ": 파라미터가 2개 이상 들어왔을 때 **가장 큰 값** 반환"
      ],
      "metadata": {
        "id": "-XWXWV_0a9We"
      }
    },
    {
      "cell_type": "code",
      "source": [
        "data = [11, 3, 5, 6, 8]\n",
        "result = max(data)\n",
        "print(result)"
      ],
      "metadata": {
        "colab": {
          "base_uri": "https://localhost:8080/"
        },
        "id": "w4YdCh-QbMI1",
        "outputId": "f4a1dcfe-8b9d-488e-ed34-a4b0ea7f1254"
      },
      "execution_count": 3,
      "outputs": [
        {
          "output_type": "stream",
          "name": "stdout",
          "text": [
            "11\n"
          ]
        }
      ]
    },
    {
      "cell_type": "markdown",
      "source": [
        "### 4 . eval()\n",
        ": 수학 수식이 문자열 형식으로 들어오면 해당 수식을 계산한 결과를 반환"
      ],
      "metadata": {
        "id": "ezu7wRM-bPm1"
      }
    },
    {
      "cell_type": "code",
      "source": [
        "data_str = \"(3 * 4) + 2\"\n",
        "result = eval(data_str)\n",
        "print(result)"
      ],
      "metadata": {
        "colab": {
          "base_uri": "https://localhost:8080/"
        },
        "id": "79ZWZdNebWMy",
        "outputId": "b4bb993a-40b7-461f-8a90-b3920008ff01"
      },
      "execution_count": 4,
      "outputs": [
        {
          "output_type": "stream",
          "name": "stdout",
          "text": [
            "14\n"
          ]
        }
      ]
    },
    {
      "cell_type": "markdown",
      "source": [
        "### 5 . sorted()\n",
        ": iterable 객체(리스트, 사전 자료형, 튜플 자료형 등)가 들어왔을 때, 정렬된 결과를 반환\n",
        "\n",
        "* **key 속성**으로 정렬 기준을 명시 할 수 있음\n",
        "* **reverse 속성**으로 정렬된 결과 리스트를 뒤집을 지의 여부 설정할 수 있음\n",
        "* 리스트와 같은 iterable 객체는 기본으로 sort() 함수를 내장하고 있어서 sort() 함수로도 정렬 가능, 이 경우에는 리스트 객체의 내부 값 이 정렬된 값으로 바로 변경"
      ],
      "metadata": {
        "id": "w4lMtADjbuC1"
      }
    },
    {
      "cell_type": "code",
      "source": [
        "data = [11, 3, 5, 6, 8]\n",
        "result_reverse_F = sorted(data) # reverse 속성 default 값은 False 이다. -> 오름차순 정렬\n",
        "result_reverse_T = sorted(data, reverse = True) # reverse 속성 True -> 역순, 내림차순 정렬\n",
        "print(\"원본 데이터 : \", data)\n",
        "print(\"reverse_F : \", result_reverse_F)\n",
        "print(\"reverse_T : \", result_reverse_T)\n",
        "print(\"\\n\")\n",
        "\n",
        "data_dict = {('짱구', 20),\n",
        "             ('짱아', 11),\n",
        "             ('흰둥이', 4)}\n",
        "\n",
        "result_dict = sorted(data_dict, key = lambda x: x[1])\n",
        "print(\"원본 데이터 : \", data_dict)\n",
        "print(\"정렬 데이터 : \", result_dict)\n",
        "print(\"\\n\")\n",
        "\n",
        "data = [11, 3, 5, 6, 8]\n",
        "print('원본 데이터 : ', data)\n",
        "data.sort()\n",
        "print('sort()함수 적용 후 데이터 : ', data)"
      ],
      "metadata": {
        "colab": {
          "base_uri": "https://localhost:8080/"
        },
        "id": "ujAH59cXcVgl",
        "outputId": "127cd588-ffc0-4a8c-9221-ac9027108ac7"
      },
      "execution_count": 5,
      "outputs": [
        {
          "output_type": "stream",
          "name": "stdout",
          "text": [
            "원본 데이터 :  [11, 3, 5, 6, 8]\n",
            "reverse_F :  [3, 5, 6, 8, 11]\n",
            "reverse_T :  [11, 8, 6, 5, 3]\n",
            "\n",
            "\n",
            "원본 데이터 :  {('짱구', 20), ('흰둥이', 4), ('짱아', 11)}\n",
            "정렬 데이터 :  [('흰둥이', 4), ('짱아', 11), ('짱구', 20)]\n",
            "\n",
            "\n",
            "원본 데이터 :  [11, 3, 5, 6, 8]\n",
            "sort()함수 적용 후 데이터 :  [3, 5, 6, 8, 11]\n"
          ]
        }
      ]
    },
    {
      "cell_type": "markdown",
      "source": [
        "## 2. itertools\n",
        ": python에서 반복되는 데이터를 처리하는 기능을 포함하고 있는 라이브러리"
      ],
      "metadata": {
        "id": "moLL2VSVaQle"
      }
    },
    {
      "cell_type": "markdown",
      "source": [
        "### 1 . permutations\n",
        ": iterable 객체에서 r개의 데이터를 뽑아 일렬로 나열하는 모든 경우(순열)를 계산\n",
        "\n",
        "* permutations는 클래스이므로 객체 초기화 이후에는 리스트 자료형으로 변환하여 사용해야 함"
      ],
      "metadata": {
        "id": "z8d4H4kPfYfx"
      }
    },
    {
      "cell_type": "code",
      "source": [
        "from itertools import permutations\n",
        "\n",
        "data = ['A', 'B', 'C']\n",
        "# permutations(data, 3) <itertools.permutations at 0x7e105815dbc0>\n",
        "\n",
        "result_2 = list(permutations(data, 2)) # 2개를 뽑는 모든 순열\n",
        "print(\"2개를 뽑는 모든 순열 : \", result_2)\n",
        "result_3 = list(permutations(data, 3)) # 3개를 뽑는 모든 순열\n",
        "print(\"3개를 뽑는 모든 순열 : \", result_3)"
      ],
      "metadata": {
        "colab": {
          "base_uri": "https://localhost:8080/"
        },
        "id": "mTr-kUlYaSea",
        "outputId": "f519422e-8df6-402a-b096-78be31f7c1c0"
      },
      "execution_count": 6,
      "outputs": [
        {
          "output_type": "stream",
          "name": "stdout",
          "text": [
            "2개를 뽑는 모든 순열 :  [('A', 'B'), ('A', 'C'), ('B', 'A'), ('B', 'C'), ('C', 'A'), ('C', 'B')]\n",
            "3개를 뽑는 모든 순열 :  [('A', 'B', 'C'), ('A', 'C', 'B'), ('B', 'A', 'C'), ('B', 'C', 'A'), ('C', 'A', 'B'), ('C', 'B', 'A')]\n"
          ]
        }
      ]
    },
    {
      "cell_type": "markdown",
      "source": [
        "### 2 . combinations\n",
        ": iterable 객체에서 r개의 데이터를 뽑아 순서를 고려하지 않고 나열하는 모든 경우(조합)를 계산\n",
        "\n",
        "* combinations는 클래스이므로 객체 초기화 이후에는 리스트 자료형으로 변환하여 사용해야 함"
      ],
      "metadata": {
        "id": "Aau9XyJvif0h"
      }
    },
    {
      "cell_type": "code",
      "source": [
        "from itertools import combinations\n",
        "\n",
        "data = ['A', 'B', 'C']\n",
        "\n",
        "result_2 = list(combinations(data, 2)) # 2개를 뽑는 모든 조합\n",
        "print(\"2개를 뽑는 모든 조합 : \", result_2)\n",
        "result_3 = list(combinations(data, 3)) # 3개를 뽑는 모든 조합\n",
        "print(\"3개를 뽑는 모든 조합 : \", result_3)"
      ],
      "metadata": {
        "colab": {
          "base_uri": "https://localhost:8080/"
        },
        "id": "FWjdcrFQiYWX",
        "outputId": "a585627f-2810-4264-dcaf-363d380d1417"
      },
      "execution_count": 7,
      "outputs": [
        {
          "output_type": "stream",
          "name": "stdout",
          "text": [
            "2개를 뽑는 모든 조합 :  [('A', 'B'), ('A', 'C'), ('B', 'C')]\n",
            "3개를 뽑는 모든 조합 :  [('A', 'B', 'C')]\n"
          ]
        }
      ]
    },
    {
      "cell_type": "markdown",
      "source": [
        "### 3 . product\n",
        ": iterable 객체에서 r개의 데이터를 뽑아 일렬로 나열하는 모든 경우(순열)를 계산\n",
        "\n",
        "* 원소를 **중복**하여 뽑음\n",
        "* product 객체를 초기화할 때는 뽑고자 하는 데이터의 수를 **repeat 속성값**으로 넣어줌\n",
        "* product는 클래스이므로 객체 초기화 이후에는 리스트 자료형으로 변환하여 사용해야함"
      ],
      "metadata": {
        "id": "ns6aHO0WjP1d"
      }
    },
    {
      "cell_type": "code",
      "source": [
        "from itertools import product\n",
        "\n",
        "data = ['A', 'B', 'C']\n",
        "\n",
        "result = list(product(data, repeat = 2)) # 2개를 뽑는 모든 순열 구하기(중복 허용)\n",
        "print(result)"
      ],
      "metadata": {
        "colab": {
          "base_uri": "https://localhost:8080/"
        },
        "id": "lfS8WjjLjoHW",
        "outputId": "c67a2b19-e900-4af4-ac34-41666cf92477"
      },
      "execution_count": 8,
      "outputs": [
        {
          "output_type": "stream",
          "name": "stdout",
          "text": [
            "[('A', 'A'), ('A', 'B'), ('A', 'C'), ('B', 'A'), ('B', 'B'), ('B', 'C'), ('C', 'A'), ('C', 'B'), ('C', 'C')]\n"
          ]
        }
      ]
    },
    {
      "cell_type": "markdown",
      "source": [
        "### 4 . combinations_with_replacement\n",
        ": iterable 객체에서 r개의 데이터를 뽑아 순서를 고려하지 않고, 나열하는 모든 경우(조합)을 계산\n",
        "\n",
        "* 원소를 **중복**하여 뽑음\n",
        "* combinations_with_replacement"
      ],
      "metadata": {
        "id": "xOww5--Nj8hK"
      }
    },
    {
      "cell_type": "code",
      "source": [
        "from itertools import combinations_with_replacement\n",
        "\n",
        "data = ['A', 'B', 'C']\n",
        "\n",
        "result = list(combinations_with_replacement(data, 2)) # 2개를 뽑는 모든 조합 구하기(중복 허용)\n",
        "print(result)"
      ],
      "metadata": {
        "colab": {
          "base_uri": "https://localhost:8080/"
        },
        "id": "UaojQircj7-2",
        "outputId": "2e1dd6b7-0bfb-4ef6-8192-79c2f86cfdca"
      },
      "execution_count": 9,
      "outputs": [
        {
          "output_type": "stream",
          "name": "stdout",
          "text": [
            "[('A', 'A'), ('A', 'B'), ('A', 'C'), ('B', 'B'), ('B', 'C'), ('C', 'C')]\n"
          ]
        }
      ]
    },
    {
      "cell_type": "markdown",
      "source": [
        "## heapq\n",
        ": python에서 **힙 기능**을 위해 heapq 라이브러리를 제공함. heapq는 다익스트라 최단 경로 알고리즘을 포함해 다양한 알고리즘에서 우선순위 큐 기능을 구현하고자 할 때 사용됨. heapq 외에도 PriorityQueue 라이브러리를 사용할 수 있지만, 코딩테스트 환경에서는 보통 heapq가 더 빠르게 동작함\n",
        "\n",
        "* python의 힙은 최소 힙으로 구성되어 있음. 보통 최소 힙 자료구조의 최상단 원소는 항상 '가장 작은' 원소\n",
        "\n",
        "* heapq.heappush() : 힙에 원소 삽입\n",
        "* heapq.heappop() : 힙에서 원소 꺼내기\n",
        "* 힙 정렬 : 최소 힙이므로, 단순히 **원소를 힙에 전부 넣었다가 빼는 것**만으로도 시간복잡도 O(NlogN)에 오름차순 정렬이 완료됨"
      ],
      "metadata": {
        "id": "c3x5V6iTlwGz"
      }
    },
    {
      "cell_type": "code",
      "source": [
        "# 힙 정렬 (오름차순 정렬)\n",
        "# heapq로 구현\n",
        "\n",
        "import heapq\n",
        "\n",
        "def heapsort(iterable):\n",
        "    hip = []\n",
        "    result = []\n",
        "\n",
        "    # 모든 원소를 차례대로 힙에 삽입\n",
        "    for value in iterable:\n",
        "        heapq.heappush(hip, value)\n",
        "\n",
        "    # 힙에 삽입된 모든 원소를 차례대로 꺼내어 담기\n",
        "    for i in range(len(hip)):\n",
        "        result.append(heapq.heappop(hip))\n",
        "\n",
        "    return result\n",
        "\n",
        "result = heapsort([1, 3, 5, 7, 8, 9, 2, 6, 4, 0])\n",
        "print(result)"
      ],
      "metadata": {
        "colab": {
          "base_uri": "https://localhost:8080/"
        },
        "id": "Qs814hm1mvUU",
        "outputId": "72828329-bd80-4540-b0bb-5349569ad04f"
      },
      "execution_count": 10,
      "outputs": [
        {
          "output_type": "stream",
          "name": "stdout",
          "text": [
            "[0, 1, 2, 3, 4, 5, 6, 7, 8, 9]\n"
          ]
        }
      ]
    },
    {
      "cell_type": "code",
      "source": [
        "# 최대 힙 구현하여 내림차순 힙 정렬 구현\n",
        "\n",
        "import heapq\n",
        "\n",
        "def heapsort(iterable):\n",
        "    hip = []\n",
        "    result = []\n",
        "\n",
        "    # 모든 원소를 차례대로 힙에 삽입\n",
        "    for value in iterable:\n",
        "        heapq.heappush(hip, -value)\n",
        "\n",
        "    # print(\"최종 힙 : \", hip) 최종 힙 :  [-9, -7, -8, -6, -5, -3, -2, -1, -4, 0]\n",
        "    # -value를 통해 기존 가장 큰 값인 9가 맨 앞에 있는것을 확인 할 수 있다.\n",
        "\n",
        "    # 힙에 삽입된 모든 원소를 차례대로 꺼내어 담기\n",
        "    for i in range(len(hip)):\n",
        "        result.append(-heapq.heappop(hip)) # heappop 시에는 다시 -로 꺼내어 담기\n",
        "\n",
        "    return result\n",
        "\n",
        "result = heapsort([1, 3, 5, 7, 8, 9, 2, 6, 4, 0])\n",
        "print(\"내림차순 힙 정렬 : \", result)"
      ],
      "metadata": {
        "colab": {
          "base_uri": "https://localhost:8080/"
        },
        "id": "UUZLLLtYnwqX",
        "outputId": "38d40573-aaea-4ff7-aee3-6a7293c6f731"
      },
      "execution_count": 11,
      "outputs": [
        {
          "output_type": "stream",
          "name": "stdout",
          "text": [
            "내림차순 힙 정렬 :  [9, 8, 7, 6, 5, 4, 3, 2, 1, 0]\n"
          ]
        }
      ]
    },
    {
      "cell_type": "markdown",
      "source": [
        "## bisect\n",
        ": python에서는 **이진 탐색**을 쉽게 구현할 수 있도록 bisect 라이브러리를 제공함. '정렬된 배열'에서 특정한 원소를 찾아야할 때 매우 효과적으로 사용됨.\n",
        "\n",
        "* bisect_left(a, x) : 정렬된 순서를 유지하면서 리스트 a에 데이터 x를 삽입할 가장 왼쪽 인덱스를 찾는 메소드 (O(logN))\n",
        "* bisect_right(a, x) : 정렬된 순서를 유지하도록 리스트 a에 데이터 x를 삽입할 가장 오른쪽 인덱스를 찾는 메소드 (O(logN))"
      ],
      "metadata": {
        "id": "WDmefB7TBoAg"
      }
    },
    {
      "cell_type": "code",
      "source": [
        "from bisect import bisect_left, bisect_right\n",
        "\n",
        "a = [1, 2, 4, 4, 8, 10]\n",
        "X = 4\n",
        "\n",
        "result_L = bisect_left(a, X)\n",
        "result_R = bisect_right(a, X)\n",
        "\n",
        "print(\"bisect_left : \", result_L)\n",
        "print(\"bisect_right : \", result_R)"
      ],
      "metadata": {
        "colab": {
          "base_uri": "https://localhost:8080/"
        },
        "id": "f8e7nrwfCppp",
        "outputId": "dad9e997-6c3a-488d-9def-2a8f4b114be1"
      },
      "execution_count": 12,
      "outputs": [
        {
          "output_type": "stream",
          "name": "stdout",
          "text": [
            "bisect_left :  2\n",
            "bisect_right :  4\n"
          ]
        }
      ]
    },
    {
      "cell_type": "code",
      "source": [
        "from bisect import bisect_left, bisect_right\n",
        "\n",
        "# 값이 [left_value, right_value]인 데이터의 개수를 반환하는 함수\n",
        "def count_by_range(a, left_value, right_value):\n",
        "    right_index = bisect_right(a, right_value)\n",
        "    left_index = bisect_left(a, left_value)\n",
        "    return right_index - left_index\n",
        "\n",
        "# 리스트 선언\n",
        "a = [1, 2, 3, 3, 3, 4, 5, 6, 5, 8, 3, 9]\n",
        "\n",
        "# 리스트 정렬\n",
        "a.sort()\n",
        "# a = sorted(a)\n",
        "\n",
        "# 값이 3인 데이터 개수 출력\n",
        "print(\"값이 3인 데이터 개수 : \", count_by_range(a, 3, 3))\n",
        "\n",
        "# 값이 [3, 6] 범위에 있는 데이터 개수 출력\n",
        "print(\"값이 [3, 6] 범위에 있는 데이터 개수 : \", count_by_range(a, 3, 6))"
      ],
      "metadata": {
        "id": "Kg3zsO90DO_X",
        "colab": {
          "base_uri": "https://localhost:8080/"
        },
        "outputId": "095d74a7-652f-4d3b-eccb-a5145de4c6b2"
      },
      "execution_count": 13,
      "outputs": [
        {
          "output_type": "stream",
          "name": "stdout",
          "text": [
            "값이 3인 데이터 개수 :  4\n",
            "값이 [3, 6] 범위에 있는 데이터 개수 :  8\n"
          ]
        }
      ]
    },
    {
      "cell_type": "markdown",
      "source": [
        "## collections\n",
        ": python의 colections 라이브러리는 유용한 자료구조를 제공하는 표준 라이브러리"
      ],
      "metadata": {
        "id": "CWn5oEKUFhBj"
      }
    },
    {
      "cell_type": "markdown",
      "source": [
        "### 1 . deque\n",
        "* 보통 python에서는 deque를 사용해 큐를 구현\n",
        "* 리스트 자료형과 다르게 인덱싱, 슬라이싱 등의 기능은 사용할 수 없음\n",
        "* 연속적으로 나열된 데이터의 시작 부분이나 끝 부분에 데이터를 삽입하거나 삭제할 때 매우 효과적임\n",
        "---\n",
        "* popleft() : 첫 번째 원소 제거\n",
        "* pop() : 마지막 원소 제거\n",
        "* appendleft(x) : 첫 번째 인덱스에 원소 x를 삽입\n",
        "* append(x) : 마지막 인덱스에 원소 x를 삽입\n",
        "> **큐 자료구조**를 이용할 때, **append()**와 **popleft()** 사용하기"
      ],
      "metadata": {
        "id": "WEvmfWN-IsY0"
      }
    },
    {
      "cell_type": "code",
      "source": [
        "from collections import deque\n",
        "\n",
        "data = deque([2, 3, 4, 5])\n",
        "data.appendleft(1)\n",
        "data.append(6)\n",
        "\n",
        "print(data)\n",
        "print(list(data))"
      ],
      "metadata": {
        "colab": {
          "base_uri": "https://localhost:8080/"
        },
        "id": "QisFt5plG31m",
        "outputId": "4f39e744-a19b-46a5-d00f-c20363aaa5c7"
      },
      "execution_count": 14,
      "outputs": [
        {
          "output_type": "stream",
          "name": "stdout",
          "text": [
            "deque([1, 2, 3, 4, 5, 6])\n",
            "[1, 2, 3, 4, 5, 6]\n"
          ]
        }
      ]
    },
    {
      "cell_type": "markdown",
      "source": [
        "### 2 . Counter\n",
        ": iterable 객체가 주어졌을 때, 해당 객체 내부의 **원소가 몇번씩 등장**했는지 알려줌"
      ],
      "metadata": {
        "id": "hbvsi0FuI8rr"
      }
    },
    {
      "cell_type": "code",
      "source": [
        "from collections import Counter\n",
        "\n",
        "counter = Counter(['red' ,'blue', 'red', 'green', 'blue', 'blue'])\n",
        "\n",
        "print(\"blue원소 개수 : \", counter['blue'])\n",
        "print(\"green원소 개수 : \", counter['green'])\n",
        "print(\"dictionary로 표시 : \", dict(counter))"
      ],
      "metadata": {
        "colab": {
          "base_uri": "https://localhost:8080/"
        },
        "id": "jNsUxW28Hbq9",
        "outputId": "101e8f92-066f-436b-c9a5-cd1955dc9a93"
      },
      "execution_count": 15,
      "outputs": [
        {
          "output_type": "stream",
          "name": "stdout",
          "text": [
            "blue원소 개수 :  3\n",
            "green원소 개수 :  1\n",
            "dictionary로 표시 :  {'red': 2, 'blue': 3, 'green': 1}\n"
          ]
        }
      ]
    },
    {
      "cell_type": "markdown",
      "source": [
        "## math\n",
        ": 자주 사용되는 수학적인 기능을 포함하고 있는 라이브러리"
      ],
      "metadata": {
        "id": "54glI2ZmJvJ2"
      }
    },
    {
      "cell_type": "markdown",
      "source": [
        "### 1 . factorial(x) : x! 값 반환\n",
        "> x * (x-1) * (x-2)...*1\n",
        "\n",
        "ex) 5! = 5 * 4 * 3 * 2 * 1 = 120"
      ],
      "metadata": {
        "id": "p2E2iHsIKOX-"
      }
    },
    {
      "cell_type": "code",
      "source": [
        "import math\n",
        "\n",
        "print(math.factorial(5))"
      ],
      "metadata": {
        "colab": {
          "base_uri": "https://localhost:8080/"
        },
        "id": "OYOeg0UWKNUE",
        "outputId": "1d6447ea-a4a7-41a2-adb5-057f8c28d4e2"
      },
      "execution_count": 16,
      "outputs": [
        {
          "output_type": "stream",
          "name": "stdout",
          "text": [
            "120\n"
          ]
        }
      ]
    },
    {
      "cell_type": "markdown",
      "source": [
        "### 2 . sqrt(x) : x의 제곱근 반환\n",
        "> x의 루트를 씌운 값"
      ],
      "metadata": {
        "id": "vePt-zmbK7Ap"
      }
    },
    {
      "cell_type": "code",
      "source": [
        "import math\n",
        "\n",
        "print(math.sqrt(2))\n",
        "print(math.sqrt(4))\n",
        "print(math.sqrt(7))"
      ],
      "metadata": {
        "colab": {
          "base_uri": "https://localhost:8080/"
        },
        "id": "TZso8D9iLG0E",
        "outputId": "fbed4edc-db0a-486f-ca82-b80a370808e5"
      },
      "execution_count": 17,
      "outputs": [
        {
          "output_type": "stream",
          "name": "stdout",
          "text": [
            "1.4142135623730951\n",
            "2.0\n",
            "2.6457513110645907\n"
          ]
        }
      ]
    },
    {
      "cell_type": "markdown",
      "source": [
        "### 3 . gcd(a, b) : a와 b의 최대공약수 반환"
      ],
      "metadata": {
        "id": "uQhhWfwFLTsr"
      }
    },
    {
      "cell_type": "code",
      "source": [
        "import math\n",
        "\n",
        "print(math.gcd(21, 14))"
      ],
      "metadata": {
        "colab": {
          "base_uri": "https://localhost:8080/"
        },
        "id": "2iVf74RVLTY2",
        "outputId": "da01742d-b1f0-4273-cbfd-042a39a9ca27"
      },
      "execution_count": 18,
      "outputs": [
        {
          "output_type": "stream",
          "name": "stdout",
          "text": [
            "7\n"
          ]
        }
      ]
    },
    {
      "cell_type": "markdown",
      "source": [
        "### 파이(pi), 자연상수 e"
      ],
      "metadata": {
        "id": "mwrxXmNjOCkf"
      }
    },
    {
      "cell_type": "code",
      "source": [
        "import math\n",
        "\n",
        "print(math.pi)\n",
        "print(math.e)"
      ],
      "metadata": {
        "colab": {
          "base_uri": "https://localhost:8080/"
        },
        "id": "6IxLJtWuLeIE",
        "outputId": "9521b744-67ec-40f6-d1dd-55eece562441"
      },
      "execution_count": 19,
      "outputs": [
        {
          "output_type": "stream",
          "name": "stdout",
          "text": [
            "3.141592653589793\n",
            "2.718281828459045\n"
          ]
        }
      ]
    }
  ]
}