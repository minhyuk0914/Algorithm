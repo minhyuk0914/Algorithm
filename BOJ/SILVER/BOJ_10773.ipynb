{
  "nbformat": 4,
  "nbformat_minor": 0,
  "metadata": {
    "colab": {
      "provenance": [],
      "authorship_tag": "ABX9TyPEFXO5ZLw9t15Z7swJz1RZ"
    },
    "kernelspec": {
      "name": "python3",
      "display_name": "Python 3"
    },
    "language_info": {
      "name": "python"
    }
  },
  "cells": [
    {
      "cell_type": "code",
      "source": [
        "n = int(input())\n",
        "\n",
        "stack = []\n",
        "\n",
        "for i in range(n):\n",
        "    num = int(input())\n",
        "    if num != 0:\n",
        "        stack.append(num)\n",
        "    else:\n",
        "        stack.pop()\n",
        "\n",
        "ans = 0 # 스택 데이터 총합\n",
        "for x in stack:\n",
        "    ans += x\n",
        "\n",
        "print(ans)"
      ],
      "metadata": {
        "colab": {
          "base_uri": "https://localhost:8080/"
        },
        "id": "aEMTPkdV1TFu",
        "outputId": "e8c5eb99-bf92-4ee9-e94e-81033a607a22"
      },
      "execution_count": 2,
      "outputs": [
        {
          "output_type": "stream",
          "name": "stdout",
          "text": [
            "10\n",
            "1\n",
            "3\n",
            "5\n",
            "4\n",
            "0\n",
            "0\n",
            "7\n",
            "0\n",
            "0\n",
            "6\n",
            "7\n"
          ]
        }
      ]
    }
  ]
}