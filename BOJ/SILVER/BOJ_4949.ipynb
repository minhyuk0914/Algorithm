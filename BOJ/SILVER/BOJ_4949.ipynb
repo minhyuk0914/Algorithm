{
  "nbformat": 4,
  "nbformat_minor": 0,
  "metadata": {
    "colab": {
      "provenance": [],
      "authorship_tag": "ABX9TyOdq/zj0aGXHpvmEW2RRQmd"
    },
    "kernelspec": {
      "name": "python3",
      "display_name": "Python 3"
    },
    "language_info": {
      "name": "python"
    }
  },
  "cells": [
    {
      "cell_type": "code",
      "source": [
        "while True:\n",
        "    text = input()\n",
        "    if text == \".\":\n",
        "        break\n",
        "\n",
        "    stack = []\n",
        "    check = True\n",
        "    for i in range(len(text)):\n",
        "        if text[i] == '(' or text[i] == '[':\n",
        "            stack.append(text[i])\n",
        "\n",
        "        if text[i] == ')':\n",
        "            if not stack or stack[-1] != '(':  # 스택이 비어있거나 짝이 안 맞는 경우\n",
        "                check = False\n",
        "                break\n",
        "            stack.pop()\n",
        "\n",
        "        if text[i] == ']':\n",
        "            if not stack or stack[-1] != '[':  # 스택이 비어있거나 짝이 안 맞는 경우\n",
        "                check = False\n",
        "                break\n",
        "            stack.pop()\n",
        "    # print(stack)\n",
        "    # print(check)\n",
        "\n",
        "    # 스택이 비어있고 규칙을 지켰으면 yes, 아니면 no\n",
        "    if not stack and check:\n",
        "        print('yes')\n",
        "    else:\n",
        "        print('no')\n"
      ],
      "metadata": {
        "colab": {
          "base_uri": "https://localhost:8080/"
        },
        "id": "fVqJCZPHWrzd",
        "outputId": "f893179c-24a3-43e1-ac22-cda00c8544e5"
      },
      "execution_count": 1,
      "outputs": [
        {
          "name": "stdout",
          "output_type": "stream",
          "text": [
            "So when I die (the [first] I will see in (heaven) is a score list).\n",
            "yes\n",
            "[ first in ] ( first out ).\n",
            "yes\n",
            "Half Moon tonight (At least it is better than no Moon at all].\n",
            "no\n",
            "A rope may form )( a trail in a maze.\n",
            "no\n",
            "Help( I[m being held prisoner in a fortune cookie factory)].\n",
            "no\n",
            "([ (([( [ ] ) ( ) (( ))] )) ]).\n",
            "yes\n",
            " .\n",
            "yes\n",
            ".\n"
          ]
        }
      ]
    }
  ]
}