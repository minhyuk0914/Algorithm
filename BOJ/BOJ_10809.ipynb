{
  "nbformat": 4,
  "nbformat_minor": 0,
  "metadata": {
    "colab": {
      "provenance": [],
      "authorship_tag": "ABX9TyNARzUHyrhjaMuSeNa/fNyV"
    },
    "kernelspec": {
      "name": "python3",
      "display_name": "Python 3"
    },
    "language_info": {
      "name": "python"
    }
  },
  "cells": [
    {
      "cell_type": "code",
      "source": [
        "li = [-1] * 26\n",
        "\n",
        "S = input()\n",
        "\n",
        "for i in range(len(S)):\n",
        "    idx = ord(S[i]) - ord('a')\n",
        "\n",
        "    if li[idx] == -1:\n",
        "        li[idx] = i\n",
        "\n",
        "for i in range(26):\n",
        "    print(li[i], end=' ')\n",
        "\n",
        "# print(' '.join(map(str, li)))"
      ],
      "metadata": {
        "colab": {
          "base_uri": "https://localhost:8080/"
        },
        "id": "FzIOVJZB6WA4",
        "outputId": "79c128e1-d1f0-49cc-e684-90e8ae557973"
      },
      "execution_count": 1,
      "outputs": [
        {
          "output_type": "stream",
          "name": "stdout",
          "text": [
            "baekjoon\n",
            "1 0 -1 -1 2 -1 -1 -1 -1 4 3 -1 -1 7 5 -1 -1 -1 -1 -1 -1 -1 -1 -1 -1 -1 "
          ]
        }
      ]
    }
  ]
}