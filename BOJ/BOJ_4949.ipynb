{
  "nbformat": 4,
  "nbformat_minor": 0,
  "metadata": {
    "colab": {
      "provenance": [],
      "authorship_tag": "ABX9TyOdq/zj0aGXHpvmEW2RRQmd"
    },
    "kernelspec": {
      "name": "python3",
      "display_name": "Python 3"
    },
    "language_info": {
      "name": "python"
    }
  },
  "cells": [
    {
      "cell_type": "code",
      "source": [
        "while True:\n",
        "    text = input()\n",
        "    if text == \".\":\n",
        "        break\n",
        "\n",
        "    stack = []\n",
        "    check = True\n",
        "    for i in range(len(text)):\n",
        "        if text[i] == '(' or text[i] == '[':\n",
        "            stack.append(text[i])\n",
        "\n",
        "        if text[i] == ')':\n",
        "            if not stack or stack[-1] != '(':  # 스택이 비어있거나 짝이 안 맞는 경우\n",
        "                check = False\n",
        "                break\n",
        "            stack.pop()\n",
        "\n",
        "        if text[i] == ']':\n",
        "            if not stack or stack[-1] != '[':  # 스택이 비어있거나 짝이 안 맞는 경우\n",
        "                check = False\n",
        "                break\n",
        "            stack.pop()\n",
        "    # print(stack)\n",
        "    # print(check)\n",
        "\n",
        "    # 스택이 비어있고 규칙을 지켰으면 yes, 아니면 no\n",
        "    if not stack and check:\n",
        "        print('yes')\n",
        "    else:\n",
        "        print('no')\n"
      ],
      "metadata": {
        "id": "fVqJCZPHWrzd"
      },
      "execution_count": null,
      "outputs": []
    }
  ]
}