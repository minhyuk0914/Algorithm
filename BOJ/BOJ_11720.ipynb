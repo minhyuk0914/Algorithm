{
  "nbformat": 4,
  "nbformat_minor": 0,
  "metadata": {
    "colab": {
      "provenance": [],
      "authorship_tag": "ABX9TyPuPZ8ZwPsOID+U7nRziTrU",
      "include_colab_link": true
    },
    "kernelspec": {
      "name": "python3",
      "display_name": "Python 3"
    },
    "language_info": {
      "name": "python"
    }
  },
  "cells": [
    {
      "cell_type": "markdown",
      "metadata": {
        "id": "view-in-github",
        "colab_type": "text"
      },
      "source": [
        "<a href=\"https://colab.research.google.com/github/minhyuk0914/Algorithm/blob/main/BOJ/BOJ_11720.ipynb\" target=\"_parent\"><img src=\"https://colab.research.google.com/assets/colab-badge.svg\" alt=\"Open In Colab\"/></a>"
      ]
    },
    {
      "cell_type": "markdown",
      "source": [
        "문제\n",
        "---\n",
        "N개의 숫자가 공백 없이 쓰여있다. 이 숫자를 모두 합해서 출력하는 프로그램을 작성하시오.\n",
        "입력\n",
        "---\n",
        "첫째 줄에 숫자의 개수 N(1<=N<=100)이 주어진다. 둘째 줄에 숫자 N개가 공백없이 주어진다.\n",
        "출력\n",
        "---\n",
        "입력으로 주어진 숫자 N개의 합을 출력한다."
      ],
      "metadata": {
        "id": "MU-TRouss33w"
      }
    },
    {
      "cell_type": "code",
      "source": [
        "# 나의 풀이\n",
        "n = int(input()) # 숫자의 개수 받기\n",
        "numbers = list(input()) # 입력받은 str타입의 숫자들을 list로 저장\n",
        "\n",
        "sum = 0\n",
        "\n",
        "for i in range(n):\n",
        "    sum += int(numbers[i]) # numbers[i] 를 통해 1개씩 불러오고 이 때, str -> int 변환\n",
        "\n",
        "print(sum)"
      ],
      "metadata": {
        "colab": {
          "base_uri": "https://localhost:8080/"
        },
        "id": "zeSS_LWTvBvo",
        "outputId": "6c9fe01e-7fef-4398-ffaf-2175317d1d8a"
      },
      "execution_count": 31,
      "outputs": [
        {
          "output_type": "stream",
          "name": "stdout",
          "text": [
            "3\n",
            "345\n",
            "12\n"
          ]
        }
      ]
    },
    {
      "cell_type": "code",
      "source": [
        "# 모범 풀이\n",
        "n = input()\n",
        "numbers = list(input())\n",
        "sum = 0\n",
        "\n",
        "for i in numbers: # for문에서 list형태인 numbers를 넣어 numbers의 값들이 반복문에 적용되게 함\n",
        "    sum += int(i)\n",
        "\n",
        "print(sum)"
      ],
      "metadata": {
        "colab": {
          "base_uri": "https://localhost:8080/"
        },
        "id": "ADdAAuAC0syD",
        "outputId": "c99ed6c6-2e1e-4d4e-dd8f-7f850c4c2eab"
      },
      "execution_count": 38,
      "outputs": [
        {
          "output_type": "stream",
          "name": "stdout",
          "text": [
            "3\n",
            "345\n",
            "12\n"
          ]
        }
      ]
    }
  ]
}