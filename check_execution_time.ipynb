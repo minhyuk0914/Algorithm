{
  "nbformat": 4,
  "nbformat_minor": 0,
  "metadata": {
    "colab": {
      "provenance": [],
      "authorship_tag": "ABX9TyMiM9Z3C/x9uWmVMw7pVoTK",
      "include_colab_link": true
    },
    "kernelspec": {
      "name": "python3",
      "display_name": "Python 3"
    },
    "language_info": {
      "name": "python"
    }
  },
  "cells": [
    {
      "cell_type": "markdown",
      "metadata": {
        "id": "view-in-github",
        "colab_type": "text"
      },
      "source": [
        "<a href=\"https://colab.research.google.com/github/minhyuk0914/Algorithm/blob/main/check_execution_time.ipynb\" target=\"_parent\"><img src=\"https://colab.research.google.com/assets/colab-badge.svg\" alt=\"Open In Colab\"/></a>"
      ]
    },
    {
      "cell_type": "code",
      "execution_count": 1,
      "metadata": {
        "id": "GDD3enfIv_NK",
        "colab": {
          "base_uri": "https://localhost:8080/"
        },
        "outputId": "445176a1-89fa-42f2-8b54-da8ca11819f4"
      },
      "outputs": [
        {
          "output_type": "stream",
          "name": "stdout",
          "text": [
            "time:  3.337860107421875e-05\n"
          ]
        }
      ],
      "source": [
        "# 수행 시간 측정 코드\n",
        "import time\n",
        "start_time = time.time() # 측정 시작\n",
        "\n",
        "# 프로그램 소스코드\n",
        "\n",
        "\n",
        "end_time = time.time() # 측정 종료\n",
        "print(\"time: \", end_time - start_time) # 수행 시간 출력"
      ]
    }
  ]
}